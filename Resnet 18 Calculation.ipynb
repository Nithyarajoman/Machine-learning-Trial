{
  "nbformat": 4,
  "nbformat_minor": 0,
  "metadata": {
    "colab": {
      "provenance": [],
      "collapsed_sections": [],
      "authorship_tag": "ABX9TyNGcOFtepdBhilwegIone2a",
      "include_colab_link": true
    },
    "kernelspec": {
      "name": "python3",
      "display_name": "Python 3"
    },
    "language_info": {
      "name": "python"
    }
  },
  "cells": [
    {
      "cell_type": "markdown",
      "metadata": {
        "id": "view-in-github",
        "colab_type": "text"
      },
      "source": [
        "<a href=\"https://colab.research.google.com/github/Nithyarajoman/Machine-learning-Trial/blob/main/Resnet%2018%20Calculation.ipynb\" target=\"_parent\"><img src=\"https://colab.research.google.com/assets/colab-badge.svg\" alt=\"Open In Colab\"/></a>"
      ]
    },
    {
      "cell_type": "code",
      "source": [
        "pip install image-classifiers"
      ],
      "metadata": {
        "colab": {
          "base_uri": "https://localhost:8080/"
        },
        "id": "j3_17HqqbYLk",
        "outputId": "9c7c64cf-767b-462e-87a3-651f619a7d78"
      },
      "execution_count": null,
      "outputs": [
        {
          "output_type": "stream",
          "name": "stdout",
          "text": [
            "Looking in indexes: https://pypi.org/simple, https://us-python.pkg.dev/colab-wheels/public/simple/\n",
            "Collecting image-classifiers\n",
            "  Downloading image_classifiers-1.0.0-py3-none-any.whl (19 kB)\n",
            "Collecting keras-applications<=1.0.8,>=1.0.7\n",
            "  Downloading Keras_Applications-1.0.8-py3-none-any.whl (50 kB)\n",
            "\u001b[K     |████████████████████████████████| 50 kB 3.0 MB/s \n",
            "\u001b[?25hRequirement already satisfied: numpy>=1.9.1 in /usr/local/lib/python3.7/dist-packages (from keras-applications<=1.0.8,>=1.0.7->image-classifiers) (1.21.6)\n",
            "Requirement already satisfied: h5py in /usr/local/lib/python3.7/dist-packages (from keras-applications<=1.0.8,>=1.0.7->image-classifiers) (3.1.0)\n",
            "Requirement already satisfied: cached-property in /usr/local/lib/python3.7/dist-packages (from h5py->keras-applications<=1.0.8,>=1.0.7->image-classifiers) (1.5.2)\n",
            "Installing collected packages: keras-applications, image-classifiers\n",
            "Successfully installed image-classifiers-1.0.0 keras-applications-1.0.8\n"
          ]
        }
      ]
    },
    {
      "cell_type": "code",
      "execution_count": null,
      "metadata": {
        "id": "wkIGkZCBY-vg"
      },
      "outputs": [],
      "source": [
        "# defined function (pip install image-classifiers)\n",
        "import tensorflow as tf\n",
        "import numpy as np\n",
        "from tensorflow import keras\n",
        "from tensorflow.keras import Model, Input\n",
        "from tensorflow.keras.layers import Input, Dense, Conv2D, MaxPooling2D, Flatten, Dropout\n",
        "from tensorflow.keras.applications import imagenet_utils\n",
        "from keras.models import Sequential, Model\n",
        "\n",
        "from classification_models.keras import Classifiers\n"
      ]
    },
    {
      "cell_type": "code",
      "source": [
        "ResNet18, preprocess_input = Classifiers.get('resnet18')"
      ],
      "metadata": {
        "id": "4f2gvwUdcuE3"
      },
      "execution_count": null,
      "outputs": []
    },
    {
      "cell_type": "code",
      "source": [
        "input_x, input_y = (224, 224)\n",
        "model = ResNet18(include_top=False,\n",
        "                        input_tensor=None,\n",
        "                        input_shape=(\n",
        "                            input_x, input_y, 3),\n",
        "                        pooling=None)"
      ],
      "metadata": {
        "id": "jI64WgLKb4JK"
      },
      "execution_count": null,
      "outputs": []
    },
    {
      "cell_type": "code",
      "source": [
        "class layer_group(object):\n",
        "\n",
        "  def __init__(self):\n",
        "          self.conv_layer = []\n",
        "          self.addition_layer = []\n",
        "          self.non_conv_layers = []\n",
        "          self.all_layers = []\n",
        "          self.total_comp_mac = 0\n",
        "          self.group_comp_cycles = 0\n",
        "          self.group_mem = 0\n",
        "          self.is_DMA = False\n",
        "\n",
        "  def add_layer(self, layer):\n",
        "          if layer.layer_type == 'conv':\n",
        "              self.conv_layer.append(layer)\n",
        "          elif layer.layer_type == 'add':\n",
        "              self.addition_layer.append(layer)\n",
        "          else:\n",
        "              self.non_conv_layers.append(layer)\n",
        "          if layer.layer_type == 'dma':\n",
        "              self.is_DMA = True\n",
        "          self.all_layers.append(layer)\n",
        "          self.total_comp_mac += layer.mac\n",
        "\n",
        "  def is_present(self, layer):\n",
        "        for t in self.all_layers:\n",
        "            if layer.parent == t.layer_name:\n",
        "                return True\n",
        "        return False"
      ],
      "metadata": {
        "id": "OFxNzfTNgzO7"
      },
      "execution_count": null,
      "outputs": []
    },
    {
      "cell_type": "code",
      "source": [
        "class custom_layer(object):\n",
        "\n",
        "    def __init__(self, row=[0]*13):\n",
        "        self.layer_name = row[0]\n",
        "        self.layer_type = row[1]\n",
        "        self.mac = float(row[2])\n",
        "        self.comp = float(row[3])\n",
        "        self.activation = float(row[4])\n",
        "        self.division = float(row[5])\n",
        "        self.ch_in = float(row[6])\n",
        "        self.data_in = float(row[7])\n",
        "        self.xy_dimension = (float(row[8]), float(row[8]))\n",
        "        self.filter_xy_dim = (float(row[9]), float(row[10]))\n",
        "        self.ch_out = int(row[11])\n",
        "        self.parent = []"
      ],
      "metadata": {
        "id": "E5kuzpynloI7"
      },
      "execution_count": null,
      "outputs": []
    },
    {
      "cell_type": "code",
      "source": [
        "preprocess = imagenet_utils.preprocess_input\n",
        "extractor = keras.Model(inputs=model.inputs,\n",
        "                            outputs=[layer.output\n",
        "                                     for layer in model.layers])\n",
        "batch_size = 1\n",
        "data = np.zeros((batch_size, input_x, input_y, 3))\n",
        "data = preprocess(data)\n",
        "features = extractor(data)\n",
        "# Neurons in a layer is just the product of the shape for a batchcount of 1\n",
        "neurons = np.zeros(len(features))\n",
        "for i, feature in enumerate(features):\n",
        "    neurons[i] = np.prod(feature.shape[1:3])\n",
        "grouped_layers = []\n",
        "temp_group = layer_group()\n",
        "dma_done = False\n",
        "for i, layer in enumerate(model.layers):\n",
        "    temp_layer = custom_layer()\n",
        "    temp_layer.layer_name = layer.name\n",
        "    if hasattr(layer, 'kernel'):\n",
        "        dma_done = True\n",
        "        grouped_layers.append(temp_group)\n",
        "        temp_group = layer_group()\n",
        "        temp_layer.data_in = np.prod(layer.input_shape[1:])\n",
        "        temp_layer.ch_in = layer.input_shape[3]\n",
        "        temp_layer.xy_dimension = (layer.input_shape[1], layer.input_shape[2])\n",
        "        temp_layer.ch_out = layer.output_shape[3]\n",
        "        temp_layer.layer_type = 'conv'\n",
        "        temp_layer.mac = np.prod(layer.kernel.shape) * neurons[i]\n",
        "        temp_layer.filter_xy_dim = (layer.kernel.shape[0], layer.kernel.shape[1])\n",
        "        if type(layer._inbound_nodes[0].inbound_layers) is list:\n",
        "            for ib_layer in layer._inbound_nodes[0].inbound_layers:\n",
        "                temp_layer.parent.append(ib_layer.name)\n",
        "        else:\n",
        "            temp_layer.parent = layer._inbound_nodes[0].inbound_layers.name\n",
        "        temp_group.add_layer(temp_layer)\n",
        "    else:\n",
        "        if dma_done is False:\n",
        "            temp_layer.layer_type = 'dma'\n",
        "            temp_layer.ch_out = 1\n",
        "            temp_layer.parent = 'null'\n",
        "        else:\n",
        "            temp_layer.ch_out = layer.output_shape[3]\n",
        "            if type(layer.input_shape) is list:\n",
        "                for x in layer.input_shape:\n",
        "                    temp_layer.xy_dimension = (x[1], x[2])\n",
        "                    temp_layer.ch_in = x[3]\n",
        "            else:\n",
        "                temp_layer.data_in = np.prod(layer.input_shape[1:])\n",
        "                temp_layer.ch_in = layer.input_shape[3]\n",
        "                temp_layer.xy_dimension = (layer.input_shape[1], layer.input_shape[2])\n",
        "\n",
        "            if type(layer._inbound_nodes[0].inbound_layers) is list:\n",
        "                temp_layer.layer_type = 'add'\n",
        "                temp_layer.data_in = {}\n",
        "                for ib_layer in layer._inbound_nodes[0].inbound_layers:\n",
        "                    temp_layer.parent.append(ib_layer.name)\n",
        "                    temp_layer.data_in[ib_layer.name] = \\\n",
        "                        np.prod(ib_layer.output_shape[1:])\n",
        "            else:\n",
        "                temp_layer.parent = \\\n",
        "                    layer._inbound_nodes[0].inbound_layers.name\n",
        "        lock = 0\n",
        "        for group in grouped_layers:\n",
        "            if group.is_present(layer=temp_layer):\n",
        "                group.add_layer(temp_layer)\n",
        "                lock = 1\n",
        "        if lock == 0:\n",
        "            temp_group.add_layer(temp_layer)\n",
        "\n",
        "if temp_group != []:\n",
        "    grouped_layers.append(temp_group)\n",
        "t = 0\n",
        "t_1 = 0\n",
        "for i, group in enumerate(grouped_layers):\n",
        "        for lyr in group.all_layers:\n",
        "            t += lyr.mac\n",
        "        t_1 += group.total_comp_mac\n",
        "        \n",
        "print(t)\n",
        "print(t_1)"
      ],
      "metadata": {
        "colab": {
          "base_uri": "https://localhost:8080/"
        },
        "id": "2Wi2n065eVKB",
        "outputId": "07e7a179-e341-4650-f00a-3b6c14d16d31"
      },
      "execution_count": null,
      "outputs": [
        {
          "output_type": "stream",
          "name": "stdout",
          "text": [
            "1826406400.0\n",
            "1826406400.0\n"
          ]
        }
      ]
    }
  ]
}