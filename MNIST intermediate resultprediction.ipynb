{
  "nbformat": 4,
  "nbformat_minor": 0,
  "metadata": {
    "colab": {
      "provenance": [],
      "collapsed_sections": [],
      "authorship_tag": "ABX9TyNyAwl24fnezZWJ5lU9vrhe",
      "include_colab_link": true
    },
    "kernelspec": {
      "name": "python3",
      "display_name": "Python 3"
    },
    "language_info": {
      "name": "python"
    }
  },
  "cells": [
    {
      "cell_type": "markdown",
      "metadata": {
        "id": "view-in-github",
        "colab_type": "text"
      },
      "source": [
        "<a href=\"https://colab.research.google.com/github/Nithyarajoman/Machine-learning-Trial/blob/main/MNIST%20intermediate%20resultprediction.ipynb\" target=\"_parent\"><img src=\"https://colab.research.google.com/assets/colab-badge.svg\" alt=\"Open In Colab\"/></a>"
      ]
    },
    {
      "cell_type": "code",
      "execution_count": 2,
      "metadata": {
        "id": "rSOpWhqS4x1D"
      },
      "outputs": [],
      "source": [
        "import numpy as np\n",
        "import tensorflow as tf\n",
        "from tensorflow import keras\n",
        "from tensorflow.keras import layers"
      ]
    },
    {
      "cell_type": "code",
      "source": [
        "# Read data\n",
        "(x_train, y_train), (x_test, y_test) = keras.datasets.fashion_mnist.load_data()\n",
        "x_train = x_train.reshape(x_train.shape[0], 28, 28, 1).astype('float')/255\n",
        "x_test = x_test.reshape(x_test.shape[0], 28, 28, 1).astype('float')/255"
      ],
      "metadata": {
        "colab": {
          "base_uri": "https://localhost:8080/"
        },
        "id": "MCTMOZ3y5TS7",
        "outputId": "ea1c3eec-ee50-4024-a6dc-aa7338fb9c8d"
      },
      "execution_count": 3,
      "outputs": [
        {
          "output_type": "stream",
          "name": "stdout",
          "text": [
            "Downloading data from https://storage.googleapis.com/tensorflow/tf-keras-datasets/train-labels-idx1-ubyte.gz\n",
            "32768/29515 [=================================] - 0s 0us/step\n",
            "40960/29515 [=========================================] - 0s 0us/step\n",
            "Downloading data from https://storage.googleapis.com/tensorflow/tf-keras-datasets/train-images-idx3-ubyte.gz\n",
            "26427392/26421880 [==============================] - 0s 0us/step\n",
            "26435584/26421880 [==============================] - 0s 0us/step\n",
            "Downloading data from https://storage.googleapis.com/tensorflow/tf-keras-datasets/t10k-labels-idx1-ubyte.gz\n",
            "16384/5148 [===============================================================================================] - 0s 0us/step\n",
            "Downloading data from https://storage.googleapis.com/tensorflow/tf-keras-datasets/t10k-images-idx3-ubyte.gz\n",
            "4423680/4422102 [==============================] - 0s 0us/step\n",
            "4431872/4422102 [==============================] - 0s 0us/step\n"
          ]
        }
      ]
    },
    {
      "cell_type": "code",
      "source": [
        "print('x_train shape:', x_train.shape)\n",
        "print(x_train.shape[0], 'training samples')\n",
        "print(x_test.shape[0], 'testing samples')"
      ],
      "metadata": {
        "colab": {
          "base_uri": "https://localhost:8080/"
        },
        "id": "BUrvFBh_5W4D",
        "outputId": "627da3fa-9366-4309-c06f-c0959c8429c2"
      },
      "execution_count": 13,
      "outputs": [
        {
          "output_type": "stream",
          "name": "stdout",
          "text": [
            "x_train shape: (60000, 28, 28, 1)\n",
            "60000 training samples\n",
            "10000 testing samples\n"
          ]
        }
      ]
    },
    {
      "cell_type": "code",
      "source": [
        "# Create Model\n",
        "model = keras.models.Sequential(\n",
        "    [       \n",
        "        layers.Conv2D(32, kernel_size=(3, 3),\n",
        "                      input_shape=(28, 28, 1),\n",
        "                      strides=(2,2), padding=\"same\",\n",
        "                      use_bias=False),\n",
        "        layers.BatchNormalization(),\n",
        "        layers.Activation(activation=\"relu\"),\n",
        "        #layers.MaxPooling2D(pool_size=(2, 2)),\n",
        "        layers.Conv2D(64, kernel_size=(3, 3),\n",
        "                      strides=(2,2), padding=\"same\",\n",
        "                      use_bias=False),\n",
        "        layers.BatchNormalization(),\n",
        "        layers.Activation(activation=\"relu\"),\n",
        "        #layers.MaxPooling2D(pool_size=(2, 2)),\n",
        "        layers.Flatten(),\n",
        "        layers.Dropout(0.5),\n",
        "        layers.Dense(10, activation='softmax')\n",
        "    ]\n",
        ")"
      ],
      "metadata": {
        "id": "YBCNczxeAgQk"
      },
      "execution_count": 15,
      "outputs": []
    },
    {
      "cell_type": "code",
      "source": [
        "model.summary()"
      ],
      "metadata": {
        "colab": {
          "base_uri": "https://localhost:8080/"
        },
        "id": "MBBPiPy6AwmF",
        "outputId": "cd067621-5587-48a7-bd78-420d606cb7f5"
      },
      "execution_count": 16,
      "outputs": [
        {
          "output_type": "stream",
          "name": "stdout",
          "text": [
            "Model: \"sequential\"\n",
            "_________________________________________________________________\n",
            " Layer (type)                Output Shape              Param #   \n",
            "=================================================================\n",
            " conv2d (Conv2D)             (None, 14, 14, 32)        288       \n",
            "                                                                 \n",
            " batch_normalization (BatchN  (None, 14, 14, 32)       128       \n",
            " ormalization)                                                   \n",
            "                                                                 \n",
            " activation (Activation)     (None, 14, 14, 32)        0         \n",
            "                                                                 \n",
            " conv2d_1 (Conv2D)           (None, 7, 7, 64)          18432     \n",
            "                                                                 \n",
            " batch_normalization_1 (Batc  (None, 7, 7, 64)         256       \n",
            " hNormalization)                                                 \n",
            "                                                                 \n",
            " activation_1 (Activation)   (None, 7, 7, 64)          0         \n",
            "                                                                 \n",
            " flatten (Flatten)           (None, 3136)              0         \n",
            "                                                                 \n",
            " dropout (Dropout)           (None, 3136)              0         \n",
            "                                                                 \n",
            " dense (Dense)               (None, 10)                31370     \n",
            "                                                                 \n",
            "=================================================================\n",
            "Total params: 50,474\n",
            "Trainable params: 50,282\n",
            "Non-trainable params: 192\n",
            "_________________________________________________________________\n"
          ]
        }
      ]
    },
    {
      "cell_type": "code",
      "source": [
        "# Train\n",
        "model.compile(optimizer='adam',\n",
        "              loss='sparse_categorical_crossentropy',\n",
        "              metrics=['accuracy'])\n",
        "model.fit(x=x_train, y=y_train, epochs=15, batch_size=128, validation_split=0.1 )\n",
        "score = model.evaluate(x_test, y_test, verbose=0)"
      ],
      "metadata": {
        "colab": {
          "base_uri": "https://localhost:8080/"
        },
        "id": "9bvf4gSZuWQV",
        "outputId": "a2b08013-79ac-4a15-b76a-e3754a3a8953"
      },
      "execution_count": 17,
      "outputs": [
        {
          "output_type": "stream",
          "name": "stdout",
          "text": [
            "Epoch 1/15\n",
            "422/422 [==============================] - 23s 54ms/step - loss: 0.5447 - accuracy: 0.8074 - val_loss: 0.5714 - val_accuracy: 0.8162\n",
            "Epoch 2/15\n",
            "422/422 [==============================] - 22s 52ms/step - loss: 0.3710 - accuracy: 0.8675 - val_loss: 0.3049 - val_accuracy: 0.8917\n",
            "Epoch 3/15\n",
            "422/422 [==============================] - 22s 53ms/step - loss: 0.3289 - accuracy: 0.8824 - val_loss: 0.2911 - val_accuracy: 0.8928\n",
            "Epoch 4/15\n",
            "422/422 [==============================] - 22s 53ms/step - loss: 0.3071 - accuracy: 0.8899 - val_loss: 0.2764 - val_accuracy: 0.8985\n",
            "Epoch 5/15\n",
            "422/422 [==============================] - 24s 56ms/step - loss: 0.2902 - accuracy: 0.8947 - val_loss: 0.2725 - val_accuracy: 0.9000\n",
            "Epoch 6/15\n",
            "422/422 [==============================] - 23s 54ms/step - loss: 0.2768 - accuracy: 0.9001 - val_loss: 0.2888 - val_accuracy: 0.8952\n",
            "Epoch 7/15\n",
            "422/422 [==============================] - 23s 54ms/step - loss: 0.2663 - accuracy: 0.9036 - val_loss: 0.2727 - val_accuracy: 0.9050\n",
            "Epoch 8/15\n",
            "422/422 [==============================] - 22s 53ms/step - loss: 0.2557 - accuracy: 0.9062 - val_loss: 0.2587 - val_accuracy: 0.9048\n",
            "Epoch 9/15\n",
            "422/422 [==============================] - 22s 53ms/step - loss: 0.2505 - accuracy: 0.9081 - val_loss: 0.2500 - val_accuracy: 0.9068\n",
            "Epoch 10/15\n",
            "422/422 [==============================] - 24s 56ms/step - loss: 0.2460 - accuracy: 0.9105 - val_loss: 0.2454 - val_accuracy: 0.9097\n",
            "Epoch 11/15\n",
            "422/422 [==============================] - 23s 54ms/step - loss: 0.2392 - accuracy: 0.9139 - val_loss: 0.2425 - val_accuracy: 0.9103\n",
            "Epoch 12/15\n",
            "422/422 [==============================] - 23s 54ms/step - loss: 0.2345 - accuracy: 0.9142 - val_loss: 0.2465 - val_accuracy: 0.9107\n",
            "Epoch 13/15\n",
            "422/422 [==============================] - 23s 54ms/step - loss: 0.2290 - accuracy: 0.9151 - val_loss: 0.2391 - val_accuracy: 0.9113\n",
            "Epoch 14/15\n",
            "422/422 [==============================] - 23s 53ms/step - loss: 0.2234 - accuracy: 0.9180 - val_loss: 0.2428 - val_accuracy: 0.9112\n",
            "Epoch 15/15\n",
            "422/422 [==============================] - 23s 53ms/step - loss: 0.2202 - accuracy: 0.9187 - val_loss: 0.2436 - val_accuracy: 0.9117\n"
          ]
        }
      ]
    },
    {
      "cell_type": "code",
      "source": [
        "# build a new model with outputs the output of BN\n",
        "all_layers = [layer.output for layer in [model.get_layer(index=0),\n",
        "                                        model.get_layer(index=1),\n",
        "                                        model.get_layer(index=2),\n",
        "                                        model.get_layer(index=3),\n",
        "                                        model.get_layer(index=4),\n",
        "                                        model.get_layer(index=5)]]"
      ],
      "metadata": {
        "id": "gu2iTNIS8fwe"
      },
      "execution_count": 18,
      "outputs": []
    },
    {
      "cell_type": "code",
      "source": [
        "print(all_layers)"
      ],
      "metadata": {
        "colab": {
          "base_uri": "https://localhost:8080/"
        },
        "id": "zWUQ7Vdo97Ot",
        "outputId": "2894e702-3003-4b33-be6d-5fcda95627a6"
      },
      "execution_count": 19,
      "outputs": [
        {
          "output_type": "stream",
          "name": "stdout",
          "text": [
            "[<KerasTensor: shape=(None, 14, 14, 32) dtype=float32 (created by layer 'conv2d')>, <KerasTensor: shape=(None, 14, 14, 32) dtype=float32 (created by layer 'batch_normalization')>, <KerasTensor: shape=(None, 14, 14, 32) dtype=float32 (created by layer 'activation')>, <KerasTensor: shape=(None, 7, 7, 64) dtype=float32 (created by layer 'conv2d_1')>, <KerasTensor: shape=(None, 7, 7, 64) dtype=float32 (created by layer 'batch_normalization_1')>, <KerasTensor: shape=(None, 7, 7, 64) dtype=float32 (created by layer 'activation_1')>]\n"
          ]
        }
      ]
    },
    {
      "cell_type": "code",
      "source": [
        "all_model = tf.keras.Model(inputs=model.inputs, outputs=all_layers)"
      ],
      "metadata": {
        "id": "qX_CXYyfCjX0"
      },
      "execution_count": null,
      "outputs": []
    },
    {
      "cell_type": "code",
      "source": [
        "all_model.summary()"
      ],
      "metadata": {
        "colab": {
          "base_uri": "https://localhost:8080/"
        },
        "id": "1dzs-HadDiwK",
        "outputId": "c5a5a788-9d50-496f-c219-41c58b6c3458"
      },
      "execution_count": 41,
      "outputs": [
        {
          "output_type": "stream",
          "name": "stdout",
          "text": [
            "Model: \"model\"\n",
            "_________________________________________________________________\n",
            " Layer (type)                Output Shape              Param #   \n",
            "=================================================================\n",
            " conv2d_input (InputLayer)   [(None, 28, 28, 1)]       0         \n",
            "                                                                 \n",
            " conv2d (Conv2D)             (None, 14, 14, 32)        288       \n",
            "                                                                 \n",
            " batch_normalization (BatchN  (None, 14, 14, 32)       128       \n",
            " ormalization)                                                   \n",
            "                                                                 \n",
            " activation (Activation)     (None, 14, 14, 32)        0         \n",
            "                                                                 \n",
            " conv2d_1 (Conv2D)           (None, 7, 7, 64)          18432     \n",
            "                                                                 \n",
            " batch_normalization_1 (Batc  (None, 7, 7, 64)         256       \n",
            " hNormalization)                                                 \n",
            "                                                                 \n",
            " activation_1 (Activation)   (None, 7, 7, 64)          0         \n",
            "                                                                 \n",
            "=================================================================\n",
            "Total params: 19,104\n",
            "Trainable params: 18,912\n",
            "Non-trainable params: 192\n",
            "_________________________________________________________________\n"
          ]
        }
      ]
    },
    {
      "cell_type": "code",
      "source": [
        "aux = all_model(x_train[:100])"
      ],
      "metadata": {
        "id": "HSyPs-EuD1FX"
      },
      "execution_count": 26,
      "outputs": []
    },
    {
      "cell_type": "code",
      "source": [
        "#creating the model to predict\n",
        "predict_layer_1 = tf.keras.Model(inputs=model.input, outputs = all_model.layers[1].output)\n",
        "single_1 = x_train[:100]"
      ],
      "metadata": {
        "id": "DJfWQ0j-5KJ7"
      },
      "execution_count": 38,
      "outputs": []
    },
    {
      "cell_type": "code",
      "source": [
        "predict_result_1 = predict_layer_1.predict(single_1)"
      ],
      "metadata": {
        "id": "uowM1QD26JSP"
      },
      "execution_count": 39,
      "outputs": []
    },
    {
      "cell_type": "code",
      "source": [
        "print(predict_result_1.shape)"
      ],
      "metadata": {
        "colab": {
          "base_uri": "https://localhost:8080/"
        },
        "id": "HsUDWW9NBIug",
        "outputId": "1c721d7c-bda7-412c-bfde-6d530cad78f3"
      },
      "execution_count": 40,
      "outputs": [
        {
          "output_type": "stream",
          "name": "stdout",
          "text": [
            "(100, 14, 14, 32)\n"
          ]
        }
      ]
    },
    {
      "cell_type": "code",
      "source": [
        "print(predict_result_1)"
      ],
      "metadata": {
        "id": "Xk3CBqPXBhTQ"
      },
      "execution_count": null,
      "outputs": []
    },
    {
      "cell_type": "code",
      "source": [
        "print(x_train)"
      ],
      "metadata": {
        "id": "SHqdeQcVIe_F"
      },
      "execution_count": null,
      "outputs": []
    },
    {
      "cell_type": "code",
      "source": [
        "print(aux)"
      ],
      "metadata": {
        "id": "j4yF_FGiEN4n"
      },
      "execution_count": null,
      "outputs": []
    },
    {
      "cell_type": "code",
      "source": [
        "# input\n",
        "for i in range(9):\n",
        "    plt.subplot(3, 3, i+1)\n",
        "    plt.imshow(np.squeeze(single_1[i]))\n",
        "    plt.axis('off')\n"
      ],
      "metadata": {
        "colab": {
          "base_uri": "https://localhost:8080/",
          "height": 248
        },
        "id": "G_zAeLjGdIcp",
        "outputId": "cd2072f7-2e4b-400e-9533-dd4d98a1fa03"
      },
      "execution_count": 46,
      "outputs": [
        {
          "output_type": "display_data",
          "data": {
            "text/plain": [
              "<Figure size 432x288 with 9 Axes>"
            ],
            "image/png": "[encoded data removed]"
          },
          "metadata": {
            "needs_background": "light"
          }
        }
      ]
    },
    {
      "cell_type": "code",
      "source": [
        "for i in range(9):\n",
        "    plt.subplot(3, 3, i + 1)\n",
        "    plt.imshow(np.squeeze(predict_result_1[0][i]))\n",
        "    plt.axis('off')"
      ],
      "metadata": {
        "colab": {
          "base_uri": "https://localhost:8080/",
          "height": 227
        },
        "id": "viFfg6ozDwRA",
        "outputId": "c9b684fe-e018-427e-9784-11841d1a1278"
      },
      "execution_count": 47,
      "outputs": [
        {
          "output_type": "display_data",
          "data": {
            "text/plain": [
              "<Figure size 432x288 with 9 Axes>"
            ],
            "image/png": "[encoded data removed]"
          },
          "metadata": {
            "needs_background": "light"
          }
        }
      ]
    }
  ]
}