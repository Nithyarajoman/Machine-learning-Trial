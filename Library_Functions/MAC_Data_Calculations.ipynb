{
  "nbformat": 4,
  "nbformat_minor": 0,
  "metadata": {
    "colab": {
      "provenance": [],
      "collapsed_sections": [],
      "authorship_tag": "ABX9TyPi1NhR0w5cnm6l2/Uu8xWc",
      "include_colab_link": true
    },
    "kernelspec": {
      "name": "python3",
      "display_name": "Python 3"
    },
    "language_info": {
      "name": "python"
    }
  },
  "cells": [
    {
      "cell_type": "markdown",
      "metadata": {
        "id": "view-in-github",
        "colab_type": "text"
      },
      "source": [
        "<a href=\"https://colab.research.google.com/github/Nithyarajoman/Machine-learning-Trial/blob/main/Library_Functions/MAC_Data_Calculations.ipynb\" target=\"_parent\"><img src=\"https://colab.research.google.com/assets/colab-badge.svg\" alt=\"Open In Colab\"/></a>"
      ]
    },
    {
      "cell_type": "code",
      "execution_count": 1,
      "metadata": {
        "id": "OSZrumTB1Jtd"
      },
      "outputs": [],
      "source": [
        "import numpy as np\n",
        "import tensorflow as tf\n",
        "from tensorflow import keras\n",
        "from tensorflow.keras import layers, models"
      ]
    },
    {
      "cell_type": "code",
      "source": [
        "# MNIST Fashion dataset for the example cnn model\n",
        "(x_train, y_train), (x_test, y_test) = keras.datasets.fashion_mnist.load_data()\n",
        "x_train = x_train.reshape(x_train.shape[0], 28, 28, 1).astype('float')/255\n",
        "x_test = x_test.reshape(x_test.shape[0], 28, 28, 1).astype('float')/255"
      ],
      "metadata": {
        "id": "CpaOM1tY3p8p",
        "colab": {
          "base_uri": "https://localhost:8080/"
        },
        "outputId": "3e17f40f-507b-48b0-da3a-a7a2f2f3b3a1"
      },
      "execution_count": 2,
      "outputs": [
        {
          "output_type": "stream",
          "name": "stdout",
          "text": [
            "Downloading data from https://storage.googleapis.com/tensorflow/tf-keras-datasets/train-labels-idx1-ubyte.gz\n",
            "29515/29515 [==============================] - 0s 0us/step\n",
            "Downloading data from https://storage.googleapis.com/tensorflow/tf-keras-datasets/train-images-idx3-ubyte.gz\n",
            "26421880/26421880 [==============================] - 0s 0us/step\n",
            "Downloading data from https://storage.googleapis.com/tensorflow/tf-keras-datasets/t10k-labels-idx1-ubyte.gz\n",
            "5148/5148 [==============================] - 0s 0us/step\n",
            "Downloading data from https://storage.googleapis.com/tensorflow/tf-keras-datasets/t10k-images-idx3-ubyte.gz\n",
            "4422102/4422102 [==============================] - 0s 0us/step\n"
          ]
        }
      ]
    },
    {
      "cell_type": "code",
      "source": [
        "# ImageNet classification dataset for Resnet18 and ResNet50\n",
        "(x_train, y_train), (x_test, y_test) = keras.datasets.cifar100.load_data() #Size is (, 32,32,3)"
      ],
      "metadata": {
        "colab": {
          "base_uri": "https://localhost:8080/"
        },
        "id": "HZZvVAiEyvF8",
        "outputId": "c9de3919-45f8-4b90-fd7f-252275611e4f"
      },
      "execution_count": 17,
      "outputs": [
        {
          "output_type": "stream",
          "name": "stdout",
          "text": [
            "Downloading data from https://www.cs.toronto.edu/~kriz/cifar-100-python.tar.gz\n",
            "169001437/169001437 [==============================] - 4s 0us/step\n"
          ]
        }
      ]
    },
    {
      "cell_type": "code",
      "source": [
        "# Create Model\n",
        "model_hierarchy = models.Sequential(\n",
        "    [        \n",
        "        layers.Conv2D(32, kernel_size=(3, 3),\n",
        "                      input_shape=(28, 28, 1),\n",
        "                      strides=(2,2), padding=\"same\",\n",
        "                      use_bias=False),\n",
        "        layers.BatchNormalization(),\n",
        "        layers.Activation(activation=\"relu\"),\n",
        "        #layers.MaxPooling2D(pool_size=(2, 2)),\n",
        "        models.Sequential([\n",
        "            layers.Conv2D(64, kernel_size=(3, 3),\n",
        "                          strides=(2,2), padding=\"valid\",\n",
        "                          use_bias=False),\n",
        "            layers.BatchNormalization(),\n",
        "            layers.Activation(activation=\"relu\")\n",
        "            ]),            \n",
        "        #layers.MaxPooling2D(pool_size=(2, 2)),\n",
        "        layers.Flatten(),\n",
        "        layers.Dropout(0.5),\n",
        "        layers.Dense(10, activation='softmax')\n",
        "    ]\n",
        ")"
      ],
      "metadata": {
        "id": "0Xbd8roZ3vX2"
      },
      "execution_count": 3,
      "outputs": []
    },
    {
      "cell_type": "code",
      "source": [
        "# Train\n",
        "model_hierarchy.compile(optimizer='adam',\n",
        "              loss='sparse_categorical_crossentropy',\n",
        "              metrics=['accuracy'])\n",
        "model_hierarchy.fit(x=x_train, y=y_train, epochs=5, batch_size=128, validation_split=0.1 )\n",
        "score = model_hierarchy.evaluate(x_test, y_test, verbose=0)"
      ],
      "metadata": {
        "id": "6dM8DAWt5EZC",
        "colab": {
          "base_uri": "https://localhost:8080/"
        },
        "outputId": "75a8dae2-f490-4fbf-8ca9-bb81d4cf94f7"
      },
      "execution_count": 4,
      "outputs": [
        {
          "output_type": "stream",
          "name": "stdout",
          "text": [
            "Epoch 1/5\n",
            "422/422 [==============================] - 20s 44ms/step - loss: 0.5621 - accuracy: 0.8000 - val_loss: 0.6253 - val_accuracy: 0.8018\n",
            "Epoch 2/5\n",
            "422/422 [==============================] - 18s 43ms/step - loss: 0.3839 - accuracy: 0.8617 - val_loss: 0.3328 - val_accuracy: 0.8770\n",
            "Epoch 3/5\n",
            "422/422 [==============================] - 18s 44ms/step - loss: 0.3431 - accuracy: 0.8775 - val_loss: 0.2876 - val_accuracy: 0.8967\n",
            "Epoch 4/5\n",
            "422/422 [==============================] - 19s 45ms/step - loss: 0.3208 - accuracy: 0.8844 - val_loss: 0.2839 - val_accuracy: 0.8942\n",
            "Epoch 5/5\n",
            "422/422 [==============================] - 18s 43ms/step - loss: 0.3012 - accuracy: 0.8909 - val_loss: 0.2747 - val_accuracy: 0.8993\n"
          ]
        }
      ]
    },
    {
      "cell_type": "code",
      "source": [
        "# Function to calculate return MAC from each layer\n",
        "\n",
        "def mac_each_layer(l):\n",
        "    o_shape, i_shape, strides, ks, filters = ['', '', ''], ['', '', ''], [1, 1], [0, 0], [0, 0]        \n",
        "    macc = 0\n",
        "    \n",
        "    if ('Dense' in str(l)):\n",
        "        i_shape = l.input.shape[1:4].as_list()[0]\n",
        "        o_shape = l.output.shape[1:4].as_list()\n",
        "        macc = (o_shape[0] * i_shape)\n",
        "\n",
        "    \n",
        "    if ('Conv2D ' in str(l) and 'DepthwiseConv2D' not in str(l) and 'SeparableConv2D' not in str(l)):\n",
        "        strides = l.strides\n",
        "        ks = l.kernel_size\n",
        "        filters = l.filters\n",
        "        i_shape = l.input.get_shape()[1:4].as_list()\n",
        "        o_shape = l.output.get_shape()[1:4].as_list()\n",
        "\n",
        "        if (filters == None):\n",
        "            filters = i_shape[2]\n",
        "\n",
        "        macc = ((filters * ks[0] * ks[1] * i_shape[2]) * (\n",
        "                (i_shape[0] / strides[0]) * (i_shape[1] / strides[1])))\n",
        "\n",
        "    if ('Conv2D ' in str(l) and 'DepthwiseConv2D' in str(l) and 'SeparableConv2D' not in str(l)):\n",
        "        strides = l.strides\n",
        "        ks = l.kernel_size\n",
        "        filters = l.filters\n",
        "        i_shape = l.input.get_shape()[1:4].as_list()\n",
        "        o_shape = l.output.get_shape()[1:4].as_list()\n",
        "\n",
        "        if (filters == None):\n",
        "            filters = i_shape[2]\n",
        "\n",
        "        macc = ((ks[0] * ks[1] * i_shape[2]) * ((i_shape[0] / strides[0]) * (i_shape[1] / strides[1])))\n",
        "\n",
        "    return macc"
      ],
      "metadata": {
        "id": "TtOvfGaT34lM"
      },
      "execution_count": 5,
      "outputs": []
    },
    {
      "cell_type": "code",
      "source": [
        "# Function to pass layers to the calculating function and to get the macc of each layer\n",
        "\n",
        "def MAC_summary(model):\n",
        "  print('%25s | %6s' % ('Layer Name', 'MACs'))\n",
        "  print('*' * 100)\n",
        "  t_macc = 0\n",
        "\n",
        "  for l in model.layers:\n",
        "    if (type(l) in [models.Sequential, keras.Model]):\n",
        "      for ib_layer in l.layers:\n",
        "        mac_obtained = mac_each_layer(ib_layer)\n",
        "        print('%25s(%5s) | %5.4f' % (\n",
        "                l.name,ib_layer.name, mac_obtained ))\n",
        "        t_macc += mac_obtained  \n",
        "\n",
        "    else:\n",
        "      mac_obtained = mac_each_layer(l)\n",
        "      print('%25s | %5.4f' % (\n",
        "                l.name, mac_obtained ))\n",
        "      \n",
        "    t_macc += mac_obtained\n",
        "  print('\\nTotal MACs operations in the complete model: %10.8f\\n' % (t_macc))\n",
        "  return"
      ],
      "metadata": {
        "id": "8k_N9h5O39Rt"
      },
      "execution_count": 6,
      "outputs": []
    },
    {
      "cell_type": "code",
      "source": [
        "# Function to print the effective data communicated \n",
        "\n",
        "def data_summary(model):\n",
        "\n",
        "  # Function to add communicated data to the metrics\n",
        "  def add_metrics(m2):\n",
        "    \"Annotates recursiverly a (non-compiled) model with metrics that calculate probability of non-zero activity\"\n",
        "    prefix_name = m2.name + \"_\"\n",
        "    for ll in m2.layers:\n",
        "        if is_hier_layer(ll):\n",
        "            add_metrics(ll)\n",
        "        else:\n",
        "          if not (\"BatchNormalization\" in str(ll)):\n",
        "            my_metric = tf.reduce_sum( tf.math.count_nonzero(ll.output, dtype=tf.int32) / tf.size( ll.output)  )\n",
        "            name=prefix_name + ll.name\n",
        "            m2.add_metric(my_metric, name=name)\n",
        "    return\n",
        "\n",
        "  # Function to check if a layer is model or not\n",
        "  def is_hier_layer(layer):\n",
        "      \"Finds if layer is actually a model instead of a single layer\"\n",
        "      return type(layer) in [models.Sequential, keras.Model]\n",
        "\n",
        "  # Clone the model. Note that it is not compiled!\n",
        "  m2 = keras.models.clone_model(model)\n",
        "  add_metrics(m2)\n",
        "  \n",
        "  # Compiling the cloned model and taking the inference\n",
        "  m2.compile(optimizer='adam',\n",
        "                loss='sparse_categorical_crossentropy',\n",
        "                metrics=['accuracy'])\n",
        "\n",
        "  aux = m2.evaluate(x_test[0:1000], y_test[0:1000]) \n",
        "  \n",
        "  print('%40s | %20s' % ('Metrics and Layer Name', 'Effective data communicated'))\n",
        "  print(\"*\" * 150)\n",
        "  for l in m2.metrics:\n",
        "    print('%40s | %5.4f' % (l.name, l.result().numpy()))\n",
        "  return"
      ],
      "metadata": {
        "id": "pt4JVkOa-eNJ"
      },
      "execution_count": 13,
      "outputs": []
    },
    {
      "cell_type": "code",
      "source": [
        "# MAC calculation for sample cnn\n",
        "MAC_summary(model_hierarchy)"
      ],
      "metadata": {
        "id": "FZJrcDoaBC5u",
        "colab": {
          "base_uri": "https://localhost:8080/"
        },
        "outputId": "2094759b-d2f7-4c4b-cf85-66efa18a5c5c"
      },
      "execution_count": 11,
      "outputs": [
        {
          "output_type": "stream",
          "name": "stdout",
          "text": [
            "               Layer Name |   MACs\n",
            "****************************************************************************************************\n",
            "                   conv2d | 56448.0000\n",
            "      batch_normalization | 0.0000\n",
            "               activation | 0.0000\n",
            "               sequential(conv2d_1) | 903168.0000\n",
            "               sequential(batch_normalization_1) | 0.0000\n",
            "               sequential(activation_1) | 0.0000\n",
            "                  flatten | 0.0000\n",
            "                  dropout | 0.0000\n",
            "                    dense | 23040.0000\n",
            "\n",
            "Total MACs operations in the complete model: 982656.00000000\n",
            "\n"
          ]
        }
      ]
    },
    {
      "cell_type": "code",
      "source": [
        "# Effective calculation for sample cnn\n",
        "data_summary(model_hierarchy)"
      ],
      "metadata": {
        "id": "vsqSQNf6BiFK",
        "colab": {
          "base_uri": "https://localhost:8080/"
        },
        "outputId": "2e00891d-4658-48ec-d673-2adb4a4f25af"
      },
      "execution_count": 14,
      "outputs": [
        {
          "output_type": "stream",
          "name": "stdout",
          "text": [
            "32/32 [==============================] - 1s 8ms/step - loss: 2.3117 - accuracy: 0.0660 - sequential_conv2d_1: 0.8909 - sequential_activation_1: 0.3996 - sequential_1_conv2d: 0.6556 - sequential_1_activation: 0.3371 - sequential_1_flatten: 0.3996 - sequential_1_dropout: 0.3996 - sequential_1_dense: 1.0000\n",
            "                  Metrics and Layer Name | Effective data communicated\n",
            "******************************************************************************************************************************************************\n",
            "                                    loss | 2.3117\n",
            "                                accuracy | 0.0660\n",
            "                     sequential_conv2d_1 | 0.8909\n",
            "                 sequential_activation_1 | 0.3996\n",
            "                     sequential_1_conv2d | 0.6556\n",
            "                 sequential_1_activation | 0.3371\n",
            "                    sequential_1_flatten | 0.3996\n",
            "                    sequential_1_dropout | 0.3996\n",
            "                      sequential_1_dense | 1.0000\n"
          ]
        }
      ]
    },
    {
      "cell_type": "code",
      "source": [
        "# Calculations for Resnet18 CNN model\n",
        "!pip install image-classifiers\n",
        "from tensorflow.keras.applications import imagenet_utils\n",
        "from classification_models.keras import Classifiers\n",
        "\n",
        "ResNet18, preprocess_input = Classifiers.get('resnet18')\n",
        "model_ResNet18 = ResNet18(include_top=False,\n",
        "                        input_tensor=None,\n",
        "                        input_shape=(\n",
        "                            32, 32, 3),\n",
        "                        pooling=None)"
      ],
      "metadata": {
        "colab": {
          "base_uri": "https://localhost:8080/"
        },
        "id": "rA418JEZ0XO0",
        "outputId": "ac06901a-d2b2-4cd1-a338-432c88cd0e65"
      },
      "execution_count": 16,
      "outputs": [
        {
          "output_type": "stream",
          "name": "stdout",
          "text": [
            "Looking in indexes: https://pypi.org/simple, https://us-python.pkg.dev/colab-wheels/public/simple/\n",
            "Collecting image-classifiers\n",
            "  Downloading image_classifiers-1.0.0-py3-none-any.whl (19 kB)\n",
            "Collecting keras-applications<=1.0.8,>=1.0.7\n",
            "  Downloading Keras_Applications-1.0.8-py3-none-any.whl (50 kB)\n",
            "\u001b[K     |████████████████████████████████| 50 kB 4.0 MB/s \n",
            "\u001b[?25hRequirement already satisfied: numpy>=1.9.1 in /usr/local/lib/python3.7/dist-packages (from keras-applications<=1.0.8,>=1.0.7->image-classifiers) (1.21.6)\n",
            "Requirement already satisfied: h5py in /usr/local/lib/python3.7/dist-packages (from keras-applications<=1.0.8,>=1.0.7->image-classifiers) (3.1.0)\n",
            "Requirement already satisfied: cached-property in /usr/local/lib/python3.7/dist-packages (from h5py->keras-applications<=1.0.8,>=1.0.7->image-classifiers) (1.5.2)\n",
            "Installing collected packages: keras-applications, image-classifiers\n",
            "Successfully installed image-classifiers-1.0.0 keras-applications-1.0.8\n"
          ]
        }
      ]
    },
    {
      "cell_type": "code",
      "source": [
        "MAC_summary(model_ResNet18)"
      ],
      "metadata": {
        "colab": {
          "base_uri": "https://localhost:8080/"
        },
        "id": "XkqvgmCE0qu1",
        "outputId": "7d97771c-06a1-4dc7-c7b9-023503320fa5"
      },
      "execution_count": 18,
      "outputs": [
        {
          "output_type": "stream",
          "name": "stdout",
          "text": [
            "               Layer Name |   MACs\n",
            "****************************************************************************************************\n",
            "                     data | 0.0000\n",
            "                  bn_data | 0.0000\n",
            "           zero_padding2d | 0.0000\n",
            "                    conv0 | 3396288.0000\n",
            "                      bn0 | 0.0000\n",
            "                    relu0 | 0.0000\n",
            "         zero_padding2d_1 | 0.0000\n",
            "                 pooling0 | 0.0000\n",
            "         stage1_unit1_bn1 | 0.0000\n",
            "       stage1_unit1_relu1 | 0.0000\n",
            "         zero_padding2d_2 | 0.0000\n",
            "       stage1_unit1_conv1 | 3686400.0000\n",
            "         stage1_unit1_bn2 | 0.0000\n",
            "       stage1_unit1_relu2 | 0.0000\n",
            "         zero_padding2d_3 | 0.0000\n",
            "       stage1_unit1_conv2 | 3686400.0000\n",
            "          stage1_unit1_sc | 262144.0000\n",
            "                      add | 0.0000\n",
            "         stage1_unit2_bn1 | 0.0000\n",
            "       stage1_unit2_relu1 | 0.0000\n",
            "         zero_padding2d_4 | 0.0000\n",
            "       stage1_unit2_conv1 | 3686400.0000\n",
            "         stage1_unit2_bn2 | 0.0000\n",
            "       stage1_unit2_relu2 | 0.0000\n",
            "         zero_padding2d_5 | 0.0000\n",
            "       stage1_unit2_conv2 | 3686400.0000\n",
            "                    add_1 | 0.0000\n",
            "         stage2_unit1_bn1 | 0.0000\n",
            "       stage2_unit1_relu1 | 0.0000\n",
            "         zero_padding2d_6 | 0.0000\n",
            "       stage2_unit1_conv1 | 1843200.0000\n",
            "         stage2_unit1_bn2 | 0.0000\n",
            "       stage2_unit1_relu2 | 0.0000\n",
            "         zero_padding2d_7 | 0.0000\n",
            "       stage2_unit1_conv2 | 5308416.0000\n",
            "          stage2_unit1_sc | 131072.0000\n",
            "                    add_2 | 0.0000\n",
            "         stage2_unit2_bn1 | 0.0000\n",
            "       stage2_unit2_relu1 | 0.0000\n",
            "         zero_padding2d_8 | 0.0000\n",
            "       stage2_unit2_conv1 | 5308416.0000\n",
            "         stage2_unit2_bn2 | 0.0000\n",
            "       stage2_unit2_relu2 | 0.0000\n",
            "         zero_padding2d_9 | 0.0000\n",
            "       stage2_unit2_conv2 | 5308416.0000\n",
            "                    add_3 | 0.0000\n",
            "         stage3_unit1_bn1 | 0.0000\n",
            "       stage3_unit1_relu1 | 0.0000\n",
            "        zero_padding2d_10 | 0.0000\n",
            "       stage3_unit1_conv1 | 2654208.0000\n",
            "         stage3_unit1_bn2 | 0.0000\n",
            "       stage3_unit1_relu2 | 0.0000\n",
            "        zero_padding2d_11 | 0.0000\n",
            "       stage3_unit1_conv2 | 9437184.0000\n",
            "          stage3_unit1_sc | 131072.0000\n",
            "                    add_4 | 0.0000\n",
            "         stage3_unit2_bn1 | 0.0000\n",
            "       stage3_unit2_relu1 | 0.0000\n",
            "        zero_padding2d_12 | 0.0000\n",
            "       stage3_unit2_conv1 | 9437184.0000\n",
            "         stage3_unit2_bn2 | 0.0000\n",
            "       stage3_unit2_relu2 | 0.0000\n",
            "        zero_padding2d_13 | 0.0000\n",
            "       stage3_unit2_conv2 | 9437184.0000\n",
            "                    add_5 | 0.0000\n",
            "         stage4_unit1_bn1 | 0.0000\n",
            "       stage4_unit1_relu1 | 0.0000\n",
            "        zero_padding2d_14 | 0.0000\n",
            "       stage4_unit1_conv1 | 4718592.0000\n",
            "         stage4_unit1_bn2 | 0.0000\n",
            "       stage4_unit1_relu2 | 0.0000\n",
            "        zero_padding2d_15 | 0.0000\n",
            "       stage4_unit1_conv2 | 21233664.0000\n",
            "          stage4_unit1_sc | 131072.0000\n",
            "                    add_6 | 0.0000\n",
            "         stage4_unit2_bn1 | 0.0000\n",
            "       stage4_unit2_relu1 | 0.0000\n",
            "        zero_padding2d_16 | 0.0000\n",
            "       stage4_unit2_conv1 | 21233664.0000\n",
            "         stage4_unit2_bn2 | 0.0000\n",
            "       stage4_unit2_relu2 | 0.0000\n",
            "        zero_padding2d_17 | 0.0000\n",
            "       stage4_unit2_conv2 | 21233664.0000\n",
            "                    add_7 | 0.0000\n",
            "                      bn1 | 0.0000\n",
            "                    relu1 | 0.0000\n",
            "\n",
            "Total MACs operations in the complete model: 135951040.00000000\n",
            "\n"
          ]
        }
      ]
    },
    {
      "cell_type": "code",
      "source": [
        "data_summary(model_ResNet18)"
      ],
      "metadata": {
        "colab": {
          "base_uri": "https://localhost:8080/"
        },
        "id": "G_zyivHz1IZO",
        "outputId": "c9c703fd-ef59-40a0-b650-d3cf5983b7de"
      },
      "execution_count": 19,
      "outputs": [
        {
          "output_type": "stream",
          "name": "stdout",
          "text": [
            "32/32 [==============================] - 8s 93ms/step - loss: 12.3672 - accuracy: 0.0120 - model_data: 0.9966 - model_zero_padding2d: 0.7067 - model_conv0: 0.9997 - model_relu0: 0.5333 - model_zero_padding2d_1: 0.4213 - model_pooling0: 0.6755 - model_stage1_unit1_relu1: 0.6755 - model_zero_padding2d_2: 0.4323 - model_stage1_unit1_conv1: 1.0000 - model_stage1_unit1_relu2: 0.4492 - model_zero_padding2d_3: 0.2875 - model_stage1_unit1_conv2: 1.0000 - model_stage1_unit1_sc: 0.9999 - model_add: 1.0000 - model_stage1_unit2_relu1: 0.4563 - model_zero_padding2d_4: 0.2921 - model_stage1_unit2_conv1: 1.0000 - model_stage1_unit2_relu2: 0.5749 - model_zero_padding2d_5: 0.3679 - model_stage1_unit2_conv2: 1.0000 - model_add_1: 1.0000 - model_stage2_unit1_relu1: 0.4479 - model_zero_padding2d_6: 0.2867 - model_stage2_unit1_conv1: 1.0000 - model_stage2_unit1_relu2: 0.5099 - model_zero_padding2d_7: 0.2266 - model_stage2_unit1_conv2: 1.0000 - model_stage2_unit1_sc: 1.0000 - model_add_2: 1.0000 - model_stage2_unit2_relu1: 0.4932 - model_zero_padding2d_8: 0.2192 - model_stage2_unit2_conv1: 1.0000 - model_stage2_unit2_relu2: 0.4674 - model_zero_padding2d_9: 0.2077 - model_stage2_unit2_conv2: 1.0000 - model_add_3: 1.0000 - model_stage3_unit1_relu1: 0.5087 - model_zero_padding2d_10: 0.2261 - model_stage3_unit1_conv1: 1.0000 - model_stage3_unit1_relu2: 0.4782 - model_zero_padding2d_11: 0.1195 - model_stage3_unit1_conv2: 1.0000 - model_stage3_unit1_sc: 1.0000 - model_add_4: 1.0000 - model_stage3_unit2_relu1: 0.5085 - model_zero_padding2d_12: 0.1271 - model_stage3_unit2_conv1: 1.0000 - model_stage3_unit2_relu2: 0.5276 - model_zero_padding2d_13: 0.1319 - model_stage3_unit2_conv2: 1.0000 - model_add_5: 1.0000 - model_stage4_unit1_relu1: 0.4983 - model_zero_padding2d_14: 0.1246 - model_stage4_unit1_conv1: 1.0000 - model_stage4_unit1_relu2: 0.5196 - model_zero_padding2d_15: 0.0577 - model_stage4_unit1_conv2: 1.0000 - model_stage4_unit1_sc: 1.0000 - model_add_6: 1.0000 - model_stage4_unit2_relu1: 0.5094 - model_zero_padding2d_16: 0.0566 - model_stage4_unit2_conv1: 1.0000 - model_stage4_unit2_relu2: 0.5074 - model_zero_padding2d_17: 0.0564 - model_stage4_unit2_conv2: 1.0000 - model_add_7: 1.0000 - model_relu1: 0.5108\n",
            "                  Metrics and Layer Name | Effective data communicated\n",
            "******************************************************************************************************************************************************\n",
            "                                    loss | 12.3672\n",
            "                                accuracy | 0.0120\n",
            "                              model_data | 0.9966\n",
            "                    model_zero_padding2d | 0.7067\n",
            "                             model_conv0 | 0.9997\n",
            "                             model_relu0 | 0.5333\n",
            "                  model_zero_padding2d_1 | 0.4213\n",
            "                          model_pooling0 | 0.6755\n",
            "                model_stage1_unit1_relu1 | 0.6755\n",
            "                  model_zero_padding2d_2 | 0.4323\n",
            "                model_stage1_unit1_conv1 | 1.0000\n",
            "                model_stage1_unit1_relu2 | 0.4492\n",
            "                  model_zero_padding2d_3 | 0.2875\n",
            "                model_stage1_unit1_conv2 | 1.0000\n",
            "                   model_stage1_unit1_sc | 0.9999\n",
            "                               model_add | 1.0000\n",
            "                model_stage1_unit2_relu1 | 0.4563\n",
            "                  model_zero_padding2d_4 | 0.2921\n",
            "                model_stage1_unit2_conv1 | 1.0000\n",
            "                model_stage1_unit2_relu2 | 0.5749\n",
            "                  model_zero_padding2d_5 | 0.3679\n",
            "                model_stage1_unit2_conv2 | 1.0000\n",
            "                             model_add_1 | 1.0000\n",
            "                model_stage2_unit1_relu1 | 0.4479\n",
            "                  model_zero_padding2d_6 | 0.2867\n",
            "                model_stage2_unit1_conv1 | 1.0000\n",
            "                model_stage2_unit1_relu2 | 0.5099\n",
            "                  model_zero_padding2d_7 | 0.2266\n",
            "                model_stage2_unit1_conv2 | 1.0000\n",
            "                   model_stage2_unit1_sc | 1.0000\n",
            "                             model_add_2 | 1.0000\n",
            "                model_stage2_unit2_relu1 | 0.4932\n",
            "                  model_zero_padding2d_8 | 0.2192\n",
            "                model_stage2_unit2_conv1 | 1.0000\n",
            "                model_stage2_unit2_relu2 | 0.4674\n",
            "                  model_zero_padding2d_9 | 0.2077\n",
            "                model_stage2_unit2_conv2 | 1.0000\n",
            "                             model_add_3 | 1.0000\n",
            "                model_stage3_unit1_relu1 | 0.5087\n",
            "                 model_zero_padding2d_10 | 0.2261\n",
            "                model_stage3_unit1_conv1 | 1.0000\n",
            "                model_stage3_unit1_relu2 | 0.4782\n",
            "                 model_zero_padding2d_11 | 0.1195\n",
            "                model_stage3_unit1_conv2 | 1.0000\n",
            "                   model_stage3_unit1_sc | 1.0000\n",
            "                             model_add_4 | 1.0000\n",
            "                model_stage3_unit2_relu1 | 0.5085\n",
            "                 model_zero_padding2d_12 | 0.1271\n",
            "                model_stage3_unit2_conv1 | 1.0000\n",
            "                model_stage3_unit2_relu2 | 0.5276\n",
            "                 model_zero_padding2d_13 | 0.1319\n",
            "                model_stage3_unit2_conv2 | 1.0000\n",
            "                             model_add_5 | 1.0000\n",
            "                model_stage4_unit1_relu1 | 0.4983\n",
            "                 model_zero_padding2d_14 | 0.1246\n",
            "                model_stage4_unit1_conv1 | 1.0000\n",
            "                model_stage4_unit1_relu2 | 0.5196\n",
            "                 model_zero_padding2d_15 | 0.0577\n",
            "                model_stage4_unit1_conv2 | 1.0000\n",
            "                   model_stage4_unit1_sc | 1.0000\n",
            "                             model_add_6 | 1.0000\n",
            "                model_stage4_unit2_relu1 | 0.5094\n",
            "                 model_zero_padding2d_16 | 0.0566\n",
            "                model_stage4_unit2_conv1 | 1.0000\n",
            "                model_stage4_unit2_relu2 | 0.5074\n",
            "                 model_zero_padding2d_17 | 0.0564\n",
            "                model_stage4_unit2_conv2 | 1.0000\n",
            "                             model_add_7 | 1.0000\n",
            "                             model_relu1 | 0.5108\n"
          ]
        }
      ]
    },
    {
      "cell_type": "code",
      "source": [
        "# Calculations for Resnet50 CNN model\n",
        "from tensorflow.keras.applications.resnet50 import ResNet50\n",
        "model_Resnet50 = ResNet50(include_top=False,\n",
        "                        weights='imagenet',\n",
        "                        input_shape=(32, 32, 3),\n",
        "                        pooling=None)"
      ],
      "metadata": {
        "colab": {
          "base_uri": "https://localhost:8080/"
        },
        "id": "uBv1VGfPXrU_",
        "outputId": "a5bc0c26-6798-4769-d993-838ac342adfb"
      },
      "execution_count": 20,
      "outputs": [
        {
          "output_type": "stream",
          "name": "stdout",
          "text": [
            "Downloading data from https://storage.googleapis.com/tensorflow/keras-applications/resnet/resnet50_weights_tf_dim_ordering_tf_kernels_notop.h5\n",
            "94765736/94765736 [==============================] - 1s 0us/step\n"
          ]
        }
      ]
    },
    {
      "cell_type": "code",
      "source": [
        "MAC_summary(model_Resnet50)"
      ],
      "metadata": {
        "colab": {
          "base_uri": "https://localhost:8080/"
        },
        "id": "XQ6VcThVbfw9",
        "outputId": "b2077e81-8743-4f42-cb6e-fe454019abb8"
      },
      "execution_count": 21,
      "outputs": [
        {
          "output_type": "stream",
          "name": "stdout",
          "text": [
            "               Layer Name |   MACs\n",
            "****************************************************************************************************\n",
            "                  input_1 | 0.0000\n",
            "                conv1_pad | 0.0000\n",
            "               conv1_conv | 3396288.0000\n",
            "                 conv1_bn | 0.0000\n",
            "               conv1_relu | 0.0000\n",
            "                pool1_pad | 0.0000\n",
            "               pool1_pool | 0.0000\n",
            "      conv2_block1_1_conv | 262144.0000\n",
            "        conv2_block1_1_bn | 0.0000\n",
            "      conv2_block1_1_relu | 0.0000\n",
            "      conv2_block1_2_conv | 2359296.0000\n",
            "        conv2_block1_2_bn | 0.0000\n",
            "      conv2_block1_2_relu | 0.0000\n",
            "      conv2_block1_0_conv | 1048576.0000\n",
            "      conv2_block1_3_conv | 1048576.0000\n",
            "        conv2_block1_0_bn | 0.0000\n",
            "        conv2_block1_3_bn | 0.0000\n",
            "         conv2_block1_add | 0.0000\n",
            "         conv2_block1_out | 0.0000\n",
            "      conv2_block2_1_conv | 1048576.0000\n",
            "        conv2_block2_1_bn | 0.0000\n",
            "      conv2_block2_1_relu | 0.0000\n",
            "      conv2_block2_2_conv | 2359296.0000\n",
            "        conv2_block2_2_bn | 0.0000\n",
            "      conv2_block2_2_relu | 0.0000\n",
            "      conv2_block2_3_conv | 1048576.0000\n",
            "        conv2_block2_3_bn | 0.0000\n",
            "         conv2_block2_add | 0.0000\n",
            "         conv2_block2_out | 0.0000\n",
            "      conv2_block3_1_conv | 1048576.0000\n",
            "        conv2_block3_1_bn | 0.0000\n",
            "      conv2_block3_1_relu | 0.0000\n",
            "      conv2_block3_2_conv | 2359296.0000\n",
            "        conv2_block3_2_bn | 0.0000\n",
            "      conv2_block3_2_relu | 0.0000\n",
            "      conv2_block3_3_conv | 1048576.0000\n",
            "        conv2_block3_3_bn | 0.0000\n",
            "         conv2_block3_add | 0.0000\n",
            "         conv2_block3_out | 0.0000\n",
            "      conv3_block1_1_conv | 524288.0000\n",
            "        conv3_block1_1_bn | 0.0000\n",
            "      conv3_block1_1_relu | 0.0000\n",
            "      conv3_block1_2_conv | 2359296.0000\n",
            "        conv3_block1_2_bn | 0.0000\n",
            "      conv3_block1_2_relu | 0.0000\n",
            "      conv3_block1_0_conv | 2097152.0000\n",
            "      conv3_block1_3_conv | 1048576.0000\n",
            "        conv3_block1_0_bn | 0.0000\n",
            "        conv3_block1_3_bn | 0.0000\n",
            "         conv3_block1_add | 0.0000\n",
            "         conv3_block1_out | 0.0000\n",
            "      conv3_block2_1_conv | 1048576.0000\n",
            "        conv3_block2_1_bn | 0.0000\n",
            "      conv3_block2_1_relu | 0.0000\n",
            "      conv3_block2_2_conv | 2359296.0000\n",
            "        conv3_block2_2_bn | 0.0000\n",
            "      conv3_block2_2_relu | 0.0000\n",
            "      conv3_block2_3_conv | 1048576.0000\n",
            "        conv3_block2_3_bn | 0.0000\n",
            "         conv3_block2_add | 0.0000\n",
            "         conv3_block2_out | 0.0000\n",
            "      conv3_block3_1_conv | 1048576.0000\n",
            "        conv3_block3_1_bn | 0.0000\n",
            "      conv3_block3_1_relu | 0.0000\n",
            "      conv3_block3_2_conv | 2359296.0000\n",
            "        conv3_block3_2_bn | 0.0000\n",
            "      conv3_block3_2_relu | 0.0000\n",
            "      conv3_block3_3_conv | 1048576.0000\n",
            "        conv3_block3_3_bn | 0.0000\n",
            "         conv3_block3_add | 0.0000\n",
            "         conv3_block3_out | 0.0000\n",
            "      conv3_block4_1_conv | 1048576.0000\n",
            "        conv3_block4_1_bn | 0.0000\n",
            "      conv3_block4_1_relu | 0.0000\n",
            "      conv3_block4_2_conv | 2359296.0000\n",
            "        conv3_block4_2_bn | 0.0000\n",
            "      conv3_block4_2_relu | 0.0000\n",
            "      conv3_block4_3_conv | 1048576.0000\n",
            "        conv3_block4_3_bn | 0.0000\n",
            "         conv3_block4_add | 0.0000\n",
            "         conv3_block4_out | 0.0000\n",
            "      conv4_block1_1_conv | 524288.0000\n",
            "        conv4_block1_1_bn | 0.0000\n",
            "      conv4_block1_1_relu | 0.0000\n",
            "      conv4_block1_2_conv | 2359296.0000\n",
            "        conv4_block1_2_bn | 0.0000\n",
            "      conv4_block1_2_relu | 0.0000\n",
            "      conv4_block1_0_conv | 2097152.0000\n",
            "      conv4_block1_3_conv | 1048576.0000\n",
            "        conv4_block1_0_bn | 0.0000\n",
            "        conv4_block1_3_bn | 0.0000\n",
            "         conv4_block1_add | 0.0000\n",
            "         conv4_block1_out | 0.0000\n",
            "      conv4_block2_1_conv | 1048576.0000\n",
            "        conv4_block2_1_bn | 0.0000\n",
            "      conv4_block2_1_relu | 0.0000\n",
            "      conv4_block2_2_conv | 2359296.0000\n",
            "        conv4_block2_2_bn | 0.0000\n",
            "      conv4_block2_2_relu | 0.0000\n",
            "      conv4_block2_3_conv | 1048576.0000\n",
            "        conv4_block2_3_bn | 0.0000\n",
            "         conv4_block2_add | 0.0000\n",
            "         conv4_block2_out | 0.0000\n",
            "      conv4_block3_1_conv | 1048576.0000\n",
            "        conv4_block3_1_bn | 0.0000\n",
            "      conv4_block3_1_relu | 0.0000\n",
            "      conv4_block3_2_conv | 2359296.0000\n",
            "        conv4_block3_2_bn | 0.0000\n",
            "      conv4_block3_2_relu | 0.0000\n",
            "      conv4_block3_3_conv | 1048576.0000\n",
            "        conv4_block3_3_bn | 0.0000\n",
            "         conv4_block3_add | 0.0000\n",
            "         conv4_block3_out | 0.0000\n",
            "      conv4_block4_1_conv | 1048576.0000\n",
            "        conv4_block4_1_bn | 0.0000\n",
            "      conv4_block4_1_relu | 0.0000\n",
            "      conv4_block4_2_conv | 2359296.0000\n",
            "        conv4_block4_2_bn | 0.0000\n",
            "      conv4_block4_2_relu | 0.0000\n",
            "      conv4_block4_3_conv | 1048576.0000\n",
            "        conv4_block4_3_bn | 0.0000\n",
            "         conv4_block4_add | 0.0000\n",
            "         conv4_block4_out | 0.0000\n",
            "      conv4_block5_1_conv | 1048576.0000\n",
            "        conv4_block5_1_bn | 0.0000\n",
            "      conv4_block5_1_relu | 0.0000\n",
            "      conv4_block5_2_conv | 2359296.0000\n",
            "        conv4_block5_2_bn | 0.0000\n",
            "      conv4_block5_2_relu | 0.0000\n",
            "      conv4_block5_3_conv | 1048576.0000\n",
            "        conv4_block5_3_bn | 0.0000\n",
            "         conv4_block5_add | 0.0000\n",
            "         conv4_block5_out | 0.0000\n",
            "      conv4_block6_1_conv | 1048576.0000\n",
            "        conv4_block6_1_bn | 0.0000\n",
            "      conv4_block6_1_relu | 0.0000\n",
            "      conv4_block6_2_conv | 2359296.0000\n",
            "        conv4_block6_2_bn | 0.0000\n",
            "      conv4_block6_2_relu | 0.0000\n",
            "      conv4_block6_3_conv | 1048576.0000\n",
            "        conv4_block6_3_bn | 0.0000\n",
            "         conv4_block6_add | 0.0000\n",
            "         conv4_block6_out | 0.0000\n",
            "      conv5_block1_1_conv | 524288.0000\n",
            "        conv5_block1_1_bn | 0.0000\n",
            "      conv5_block1_1_relu | 0.0000\n",
            "      conv5_block1_2_conv | 2359296.0000\n",
            "        conv5_block1_2_bn | 0.0000\n",
            "      conv5_block1_2_relu | 0.0000\n",
            "      conv5_block1_0_conv | 2097152.0000\n",
            "      conv5_block1_3_conv | 1048576.0000\n",
            "        conv5_block1_0_bn | 0.0000\n",
            "        conv5_block1_3_bn | 0.0000\n",
            "         conv5_block1_add | 0.0000\n",
            "         conv5_block1_out | 0.0000\n",
            "      conv5_block2_1_conv | 1048576.0000\n",
            "        conv5_block2_1_bn | 0.0000\n",
            "      conv5_block2_1_relu | 0.0000\n",
            "      conv5_block2_2_conv | 2359296.0000\n",
            "        conv5_block2_2_bn | 0.0000\n",
            "      conv5_block2_2_relu | 0.0000\n",
            "      conv5_block2_3_conv | 1048576.0000\n",
            "        conv5_block2_3_bn | 0.0000\n",
            "         conv5_block2_add | 0.0000\n",
            "         conv5_block2_out | 0.0000\n",
            "      conv5_block3_1_conv | 1048576.0000\n",
            "        conv5_block3_1_bn | 0.0000\n",
            "      conv5_block3_1_relu | 0.0000\n",
            "      conv5_block3_2_conv | 2359296.0000\n",
            "        conv5_block3_2_bn | 0.0000\n",
            "      conv5_block3_2_relu | 0.0000\n",
            "      conv5_block3_3_conv | 1048576.0000\n",
            "        conv5_block3_3_bn | 0.0000\n",
            "         conv5_block3_add | 0.0000\n",
            "         conv5_block3_out | 0.0000\n",
            "\n",
            "Total MACs operations in the complete model: 79680192.00000000\n",
            "\n"
          ]
        }
      ]
    },
    {
      "cell_type": "code",
      "source": [
        "data_summary(model_Resnet50)"
      ],
      "metadata": {
        "colab": {
          "base_uri": "https://localhost:8080/"
        },
        "id": "Sk4UmGcbw8YU",
        "outputId": "b2c3b5e7-9b0f-4623-9a3e-7e1330eaabe8"
      },
      "execution_count": 22,
      "outputs": [
        {
          "output_type": "stream",
          "name": "stdout",
          "text": [
            "32/32 [==============================] - 17s 187ms/step - loss: 11.1866 - accuracy: 0.0000e+00 - resnet50_input_1: 0.9966 - resnet50_conv1_pad: 0.7067 - resnet50_conv1_conv: 0.9997 - resnet50_conv1_relu: 0.5427 - resnet50_pool1_pad: 0.4288 - resnet50_pool1_pool: 0.7098 - resnet50_conv2_block1_1_conv: 0.9999 - resnet50_conv2_block1_1_relu: 0.5159 - resnet50_conv2_block1_2_conv: 1.0000 - resnet50_conv2_block1_2_relu: 0.5183 - resnet50_conv2_block1_0_conv: 0.9999 - resnet50_conv2_block1_3_conv: 1.0000 - resnet50_conv2_block1_add: 1.0000 - resnet50_conv2_block1_out: 0.5406 - resnet50_conv2_block2_1_conv: 1.0000 - resnet50_conv2_block2_1_relu: 0.5138 - resnet50_conv2_block2_2_conv: 1.0000 - resnet50_conv2_block2_2_relu: 0.4727 - resnet50_conv2_block2_3_conv: 1.0000 - resnet50_conv2_block2_add: 1.0000 - resnet50_conv2_block2_out: 0.7257 - resnet50_conv2_block3_1_conv: 1.0000 - resnet50_conv2_block3_1_relu: 0.5908 - resnet50_conv2_block3_2_conv: 1.0000 - resnet50_conv2_block3_2_relu: 0.6057 - resnet50_conv2_block3_3_conv: 1.0000 - resnet50_conv2_block3_add: 1.0000 - resnet50_conv2_block3_out: 0.7454 - resnet50_conv3_block1_1_conv: 1.0000 - resnet50_conv3_block1_1_relu: 0.4741 - resnet50_conv3_block1_2_conv: 1.0000 - resnet50_conv3_block1_2_relu: 0.4774 - resnet50_conv3_block1_0_conv: 1.0000 - resnet50_conv3_block1_3_conv: 1.0000 - resnet50_conv3_block1_add: 1.0000 - resnet50_conv3_block1_out: 0.4989 - resnet50_conv3_block2_1_conv: 1.0000 - resnet50_conv3_block2_1_relu: 0.4832 - resnet50_conv3_block2_2_conv: 1.0000 - resnet50_conv3_block2_2_relu: 0.4683 - resnet50_conv3_block2_3_conv: 1.0000 - resnet50_conv3_block2_add: 1.0000 - resnet50_conv3_block2_out: 0.7059 - resnet50_conv3_block3_1_conv: 1.0000 - resnet50_conv3_block3_1_relu: 0.5248 - resnet50_conv3_block3_2_conv: 1.0000 - resnet50_conv3_block3_2_relu: 0.4889 - resnet50_conv3_block3_3_conv: 1.0000 - resnet50_conv3_block3_add: 1.0000 - resnet50_conv3_block3_out: 0.7612 - resnet50_conv3_block4_1_conv: 1.0000 - resnet50_conv3_block4_1_relu: 0.4944 - resnet50_conv3_block4_2_conv: 1.0000 - resnet50_conv3_block4_2_relu: 0.5561 - resnet50_conv3_block4_3_conv: 1.0000 - resnet50_conv3_block4_add: 1.0000 - resnet50_conv3_block4_out: 0.7616 - resnet50_conv4_block1_1_conv: 1.0000 - resnet50_conv4_block1_1_relu: 0.4929 - resnet50_conv4_block1_2_conv: 1.0000 - resnet50_conv4_block1_2_relu: 0.4744 - resnet50_conv4_block1_0_conv: 1.0000 - resnet50_conv4_block1_3_conv: 1.0000 - resnet50_conv4_block1_add: 1.0000 - resnet50_conv4_block1_out: 0.4875 - resnet50_conv4_block2_1_conv: 1.0000 - resnet50_conv4_block2_1_relu: 0.4867 - resnet50_conv4_block2_2_conv: 1.0000 - resnet50_conv4_block2_2_relu: 0.4942 - resnet50_conv4_block2_3_conv: 1.0000 - resnet50_conv4_block2_add: 1.0000 - resnet50_conv4_block2_out: 0.7079 - resnet50_conv4_block3_1_conv: 1.0000 - resnet50_conv4_block3_1_relu: 0.4985 - resnet50_conv4_block3_2_conv: 1.0000 - resnet50_conv4_block3_2_relu: 0.5192 - resnet50_conv4_block3_3_conv: 1.0000 - resnet50_conv4_block3_add: 1.0000 - resnet50_conv4_block3_out: 0.7771 - resnet50_conv4_block4_1_conv: 1.0000 - resnet50_conv4_block4_1_relu: 0.4799 - resnet50_conv4_block4_2_conv: 1.0000 - resnet50_conv4_block4_2_relu: 0.4853 - resnet50_conv4_block4_3_conv: 1.0000 - resnet50_conv4_block4_add: 1.0000 - resnet50_conv4_block4_out: 0.8051 - resnet50_conv4_block5_1_conv: 1.0000 - resnet50_conv4_block5_1_relu: 0.5220 - resnet50_conv4_block5_2_conv: 1.0000 - resnet50_conv4_block5_2_relu: 0.4960 - resnet50_conv4_block5_3_conv: 1.0000 - resnet50_conv4_block5_add: 1.0000 - resnet50_conv4_block5_out: 0.8171 - resnet50_conv4_block6_1_conv: 1.0000 - resnet50_conv4_block6_1_relu: 0.4933 - resnet50_conv4_block6_2_conv: 1.0000 - resnet50_conv4_block6_2_relu: 0.4990 - resnet50_conv4_block6_3_conv: 1.0000 - resnet50_conv4_block6_add: 1.0000 - resnet50_conv4_block6_out: 0.8151 - resnet50_conv5_block1_1_conv: 1.0000 - resnet50_conv5_block1_1_relu: 0.5134 - resnet50_conv5_block1_2_conv: 1.0000 - resnet50_conv5_block1_2_relu: 0.5154 - resnet50_conv5_block1_0_conv: 1.0000 - resnet50_conv5_block1_3_conv: 1.0000 - resnet50_conv5_block1_add: 1.0000 - resnet50_conv5_block1_out: 0.5085 - resnet50_conv5_block2_1_conv: 1.0000 - resnet50_conv5_block2_1_relu: 0.4972 - resnet50_conv5_block2_2_conv: 1.0000 - resnet50_conv5_block2_2_relu: 0.4583 - resnet50_conv5_block2_3_conv: 1.0000 - resnet50_conv5_block2_add: 1.0000 - resnet50_conv5_block2_out: 0.7436 - resnet50_conv5_block3_1_conv: 1.0000 - resnet50_conv5_block3_1_relu: 0.5345 - resnet50_conv5_block3_2_conv: 1.0000 - resnet50_conv5_block3_2_relu: 0.4724 - resnet50_conv5_block3_3_conv: 1.0000 - resnet50_conv5_block3_add: 1.0000 - resnet50_conv5_block3_out: 0.7916\n",
            "                  Metrics and Layer Name | Effective data communicated\n",
            "******************************************************************************************************************************************************\n",
            "                                    loss | 11.1866\n",
            "                                accuracy | 0.0000\n",
            "                        resnet50_input_1 | 0.9966\n",
            "                      resnet50_conv1_pad | 0.7067\n",
            "                     resnet50_conv1_conv | 0.9997\n",
            "                     resnet50_conv1_relu | 0.5427\n",
            "                      resnet50_pool1_pad | 0.4288\n",
            "                     resnet50_pool1_pool | 0.7098\n",
            "            resnet50_conv2_block1_1_conv | 0.9999\n",
            "            resnet50_conv2_block1_1_relu | 0.5159\n",
            "            resnet50_conv2_block1_2_conv | 1.0000\n",
            "            resnet50_conv2_block1_2_relu | 0.5183\n",
            "            resnet50_conv2_block1_0_conv | 0.9999\n",
            "            resnet50_conv2_block1_3_conv | 1.0000\n",
            "               resnet50_conv2_block1_add | 1.0000\n",
            "               resnet50_conv2_block1_out | 0.5406\n",
            "            resnet50_conv2_block2_1_conv | 1.0000\n",
            "            resnet50_conv2_block2_1_relu | 0.5138\n",
            "            resnet50_conv2_block2_2_conv | 1.0000\n",
            "            resnet50_conv2_block2_2_relu | 0.4727\n",
            "            resnet50_conv2_block2_3_conv | 1.0000\n",
            "               resnet50_conv2_block2_add | 1.0000\n",
            "               resnet50_conv2_block2_out | 0.7257\n",
            "            resnet50_conv2_block3_1_conv | 1.0000\n",
            "            resnet50_conv2_block3_1_relu | 0.5908\n",
            "            resnet50_conv2_block3_2_conv | 1.0000\n",
            "            resnet50_conv2_block3_2_relu | 0.6057\n",
            "            resnet50_conv2_block3_3_conv | 1.0000\n",
            "               resnet50_conv2_block3_add | 1.0000\n",
            "               resnet50_conv2_block3_out | 0.7454\n",
            "            resnet50_conv3_block1_1_conv | 1.0000\n",
            "            resnet50_conv3_block1_1_relu | 0.4741\n",
            "            resnet50_conv3_block1_2_conv | 1.0000\n",
            "            resnet50_conv3_block1_2_relu | 0.4774\n",
            "            resnet50_conv3_block1_0_conv | 1.0000\n",
            "            resnet50_conv3_block1_3_conv | 1.0000\n",
            "               resnet50_conv3_block1_add | 1.0000\n",
            "               resnet50_conv3_block1_out | 0.4989\n",
            "            resnet50_conv3_block2_1_conv | 1.0000\n",
            "            resnet50_conv3_block2_1_relu | 0.4832\n",
            "            resnet50_conv3_block2_2_conv | 1.0000\n",
            "            resnet50_conv3_block2_2_relu | 0.4683\n",
            "            resnet50_conv3_block2_3_conv | 1.0000\n",
            "               resnet50_conv3_block2_add | 1.0000\n",
            "               resnet50_conv3_block2_out | 0.7059\n",
            "            resnet50_conv3_block3_1_conv | 1.0000\n",
            "            resnet50_conv3_block3_1_relu | 0.5248\n",
            "            resnet50_conv3_block3_2_conv | 1.0000\n",
            "            resnet50_conv3_block3_2_relu | 0.4889\n",
            "            resnet50_conv3_block3_3_conv | 1.0000\n",
            "               resnet50_conv3_block3_add | 1.0000\n",
            "               resnet50_conv3_block3_out | 0.7612\n",
            "            resnet50_conv3_block4_1_conv | 1.0000\n",
            "            resnet50_conv3_block4_1_relu | 0.4944\n",
            "            resnet50_conv3_block4_2_conv | 1.0000\n",
            "            resnet50_conv3_block4_2_relu | 0.5561\n",
            "            resnet50_conv3_block4_3_conv | 1.0000\n",
            "               resnet50_conv3_block4_add | 1.0000\n",
            "               resnet50_conv3_block4_out | 0.7616\n",
            "            resnet50_conv4_block1_1_conv | 1.0000\n",
            "            resnet50_conv4_block1_1_relu | 0.4929\n",
            "            resnet50_conv4_block1_2_conv | 1.0000\n",
            "            resnet50_conv4_block1_2_relu | 0.4744\n",
            "            resnet50_conv4_block1_0_conv | 1.0000\n",
            "            resnet50_conv4_block1_3_conv | 1.0000\n",
            "               resnet50_conv4_block1_add | 1.0000\n",
            "               resnet50_conv4_block1_out | 0.4875\n",
            "            resnet50_conv4_block2_1_conv | 1.0000\n",
            "            resnet50_conv4_block2_1_relu | 0.4867\n",
            "            resnet50_conv4_block2_2_conv | 1.0000\n",
            "            resnet50_conv4_block2_2_relu | 0.4942\n",
            "            resnet50_conv4_block2_3_conv | 1.0000\n",
            "               resnet50_conv4_block2_add | 1.0000\n",
            "               resnet50_conv4_block2_out | 0.7079\n",
            "            resnet50_conv4_block3_1_conv | 1.0000\n",
            "            resnet50_conv4_block3_1_relu | 0.4985\n",
            "            resnet50_conv4_block3_2_conv | 1.0000\n",
            "            resnet50_conv4_block3_2_relu | 0.5192\n",
            "            resnet50_conv4_block3_3_conv | 1.0000\n",
            "               resnet50_conv4_block3_add | 1.0000\n",
            "               resnet50_conv4_block3_out | 0.7771\n",
            "            resnet50_conv4_block4_1_conv | 1.0000\n",
            "            resnet50_conv4_block4_1_relu | 0.4799\n",
            "            resnet50_conv4_block4_2_conv | 1.0000\n",
            "            resnet50_conv4_block4_2_relu | 0.4853\n",
            "            resnet50_conv4_block4_3_conv | 1.0000\n",
            "               resnet50_conv4_block4_add | 1.0000\n",
            "               resnet50_conv4_block4_out | 0.8051\n",
            "            resnet50_conv4_block5_1_conv | 1.0000\n",
            "            resnet50_conv4_block5_1_relu | 0.5220\n",
            "            resnet50_conv4_block5_2_conv | 1.0000\n",
            "            resnet50_conv4_block5_2_relu | 0.4960\n",
            "            resnet50_conv4_block5_3_conv | 1.0000\n",
            "               resnet50_conv4_block5_add | 1.0000\n",
            "               resnet50_conv4_block5_out | 0.8171\n",
            "            resnet50_conv4_block6_1_conv | 1.0000\n",
            "            resnet50_conv4_block6_1_relu | 0.4933\n",
            "            resnet50_conv4_block6_2_conv | 1.0000\n",
            "            resnet50_conv4_block6_2_relu | 0.4990\n",
            "            resnet50_conv4_block6_3_conv | 1.0000\n",
            "               resnet50_conv4_block6_add | 1.0000\n",
            "               resnet50_conv4_block6_out | 0.8151\n",
            "            resnet50_conv5_block1_1_conv | 1.0000\n",
            "            resnet50_conv5_block1_1_relu | 0.5134\n",
            "            resnet50_conv5_block1_2_conv | 1.0000\n",
            "            resnet50_conv5_block1_2_relu | 0.5154\n",
            "            resnet50_conv5_block1_0_conv | 1.0000\n",
            "            resnet50_conv5_block1_3_conv | 1.0000\n",
            "               resnet50_conv5_block1_add | 1.0000\n",
            "               resnet50_conv5_block1_out | 0.5085\n",
            "            resnet50_conv5_block2_1_conv | 1.0000\n",
            "            resnet50_conv5_block2_1_relu | 0.4972\n",
            "            resnet50_conv5_block2_2_conv | 1.0000\n",
            "            resnet50_conv5_block2_2_relu | 0.4583\n",
            "            resnet50_conv5_block2_3_conv | 1.0000\n",
            "               resnet50_conv5_block2_add | 1.0000\n",
            "               resnet50_conv5_block2_out | 0.7436\n",
            "            resnet50_conv5_block3_1_conv | 1.0000\n",
            "            resnet50_conv5_block3_1_relu | 0.5345\n",
            "            resnet50_conv5_block3_2_conv | 1.0000\n",
            "            resnet50_conv5_block3_2_relu | 0.4724\n",
            "            resnet50_conv5_block3_3_conv | 1.0000\n",
            "               resnet50_conv5_block3_add | 1.0000\n",
            "               resnet50_conv5_block3_out | 0.7916\n"
          ]
        }
      ]
    }
  ]
}