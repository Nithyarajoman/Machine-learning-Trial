{
  "nbformat": 4,
  "nbformat_minor": 0,
  "metadata": {
    "colab": {
      "provenance": [],
      "collapsed_sections": [],
      "authorship_tag": "ABX9TyO9aXDc7DBwj3K0GdYto8ph",
      "include_colab_link": true
    },
    "kernelspec": {
      "name": "python3",
      "display_name": "Python 3"
    },
    "language_info": {
      "name": "python"
    }
  },
  "cells": [
    {
      "cell_type": "markdown",
      "metadata": {
        "id": "view-in-github",
        "colab_type": "text"
      },
      "source": [
        "<a href=\"https://colab.research.google.com/github/Nithyarajoman/Machine-learning-Trial/blob/main/Functions%20for%20MAC%20calculation%20in%20a%20hierarchy.ipynb\" target=\"_parent\"><img src=\"https://colab.research.google.com/assets/colab-badge.svg\" alt=\"Open In Colab\"/></a>"
      ]
    },
    {
      "cell_type": "code",
      "source": [
        "pip install keras-flops # Install this for setting an inbuilt function"
      ],
      "metadata": {
        "id": "rtN8vZJiVlKG"
      },
      "execution_count": null,
      "outputs": []
    },
    {
      "cell_type": "code",
      "execution_count": 3,
      "metadata": {
        "id": "I-WIL4kQ23s6"
      },
      "outputs": [],
      "source": [
        "import numpy as np\n",
        "import tensorflow as tf\n",
        "from tensorflow import keras\n",
        "from tensorflow.keras import layers,models\n",
        "# from keras_flops import get_flops"
      ]
    },
    {
      "cell_type": "code",
      "source": [
        "# Read data\n",
        "(x_train, y_train), (x_test, y_test) = keras.datasets.fashion_mnist.load_data()\n",
        "x_train = x_train.reshape(x_train.shape[0], 28, 28, 1).astype('float')/255\n",
        "x_test = x_test.reshape(x_test.shape[0], 28, 28, 1).astype('float')/255"
      ],
      "metadata": {
        "colab": {
          "base_uri": "https://localhost:8080/"
        },
        "id": "FZspqdMV4xfA",
        "outputId": "dd66b95c-9491-4722-e9a8-36aa327c99b2"
      },
      "execution_count": 4,
      "outputs": [
        {
          "output_type": "stream",
          "name": "stdout",
          "text": [
            "Downloading data from https://storage.googleapis.com/tensorflow/tf-keras-datasets/train-labels-idx1-ubyte.gz\n",
            "29515/29515 [==============================] - 0s 0us/step\n",
            "Downloading data from https://storage.googleapis.com/tensorflow/tf-keras-datasets/train-images-idx3-ubyte.gz\n",
            "26421880/26421880 [==============================] - 0s 0us/step\n",
            "Downloading data from https://storage.googleapis.com/tensorflow/tf-keras-datasets/t10k-labels-idx1-ubyte.gz\n",
            "5148/5148 [==============================] - 0s 0us/step\n",
            "Downloading data from https://storage.googleapis.com/tensorflow/tf-keras-datasets/t10k-images-idx3-ubyte.gz\n",
            "4422102/4422102 [==============================] - 0s 0us/step\n"
          ]
        }
      ]
    },
    {
      "cell_type": "code",
      "source": [
        "# Create Model\n",
        "model = models.Sequential(\n",
        "    [        \n",
        "        layers.Conv2D(32, kernel_size=(3, 3),\n",
        "                      input_shape=(28, 28, 1),\n",
        "                      strides=(2,2), padding=\"same\",\n",
        "                      use_bias=False),\n",
        "        layers.BatchNormalization(),\n",
        "        layers.Activation(activation=\"relu\"),\n",
        "        #layers.MaxPooling2D(pool_size=(2, 2)),\n",
        "        layers.Conv2D(64, kernel_size=(3, 3),\n",
        "                      strides=(2,2), padding=\"same\",\n",
        "                      use_bias=False),\n",
        "        layers.BatchNormalization(),\n",
        "        layers.Activation(activation=\"relu\"),\n",
        "        #layers.MaxPooling2D(pool_size=(2, 2)),\n",
        "        layers.Flatten(),\n",
        "        layers.Dropout(0.5),\n",
        "        layers.Dense(10, activation='softmax')\n",
        "    ]\n",
        ")"
      ],
      "metadata": {
        "id": "QBtDofvs42WR"
      },
      "execution_count": 5,
      "outputs": []
    },
    {
      "cell_type": "code",
      "source": [
        "# Train\n",
        "model.compile(optimizer='adam',\n",
        "              loss='sparse_categorical_crossentropy',\n",
        "              metrics=['accuracy'])\n",
        "model.fit(x=x_train, y=y_train, epochs=15, batch_size=128, validation_split=0.1 )\n",
        "score = model.evaluate(x_test, y_test, verbose=0)"
      ],
      "metadata": {
        "colab": {
          "base_uri": "https://localhost:8080/"
        },
        "id": "jZz2E9KS5Dgn",
        "outputId": "d7920404-4bfa-4c27-9528-19a8d9027c39"
      },
      "execution_count": 6,
      "outputs": [
        {
          "output_type": "stream",
          "name": "stdout",
          "text": [
            "Epoch 1/15\n",
            "422/422 [==============================] - 24s 56ms/step - loss: 0.5462 - accuracy: 0.8079 - val_loss: 0.6069 - val_accuracy: 0.8150\n",
            "Epoch 2/15\n",
            "422/422 [==============================] - 23s 55ms/step - loss: 0.3697 - accuracy: 0.8677 - val_loss: 0.3306 - val_accuracy: 0.8800\n",
            "Epoch 3/15\n",
            "422/422 [==============================] - 23s 55ms/step - loss: 0.3273 - accuracy: 0.8821 - val_loss: 0.2937 - val_accuracy: 0.8907\n",
            "Epoch 4/15\n",
            "422/422 [==============================] - 23s 56ms/step - loss: 0.3032 - accuracy: 0.8901 - val_loss: 0.2997 - val_accuracy: 0.8888\n",
            "Epoch 5/15\n",
            "422/422 [==============================] - 23s 55ms/step - loss: 0.2893 - accuracy: 0.8942 - val_loss: 0.2787 - val_accuracy: 0.8997\n",
            "Epoch 6/15\n",
            "422/422 [==============================] - 23s 55ms/step - loss: 0.2795 - accuracy: 0.8991 - val_loss: 0.2657 - val_accuracy: 0.9035\n",
            "Epoch 7/15\n",
            "422/422 [==============================] - 24s 56ms/step - loss: 0.2648 - accuracy: 0.9038 - val_loss: 0.2752 - val_accuracy: 0.8980\n",
            "Epoch 8/15\n",
            "422/422 [==============================] - 24s 56ms/step - loss: 0.2585 - accuracy: 0.9053 - val_loss: 0.2567 - val_accuracy: 0.9092\n",
            "Epoch 9/15\n",
            "422/422 [==============================] - 23s 55ms/step - loss: 0.2476 - accuracy: 0.9109 - val_loss: 0.2623 - val_accuracy: 0.9063\n",
            "Epoch 10/15\n",
            "422/422 [==============================] - 24s 56ms/step - loss: 0.2408 - accuracy: 0.9116 - val_loss: 0.2693 - val_accuracy: 0.9033\n",
            "Epoch 11/15\n",
            "422/422 [==============================] - 23s 55ms/step - loss: 0.2371 - accuracy: 0.9132 - val_loss: 0.2489 - val_accuracy: 0.9087\n",
            "Epoch 12/15\n",
            "422/422 [==============================] - 23s 56ms/step - loss: 0.2318 - accuracy: 0.9151 - val_loss: 0.2477 - val_accuracy: 0.9112\n",
            "Epoch 13/15\n",
            "422/422 [==============================] - 23s 56ms/step - loss: 0.2274 - accuracy: 0.9155 - val_loss: 0.2433 - val_accuracy: 0.9118\n",
            "Epoch 14/15\n",
            "422/422 [==============================] - 23s 55ms/step - loss: 0.2219 - accuracy: 0.9186 - val_loss: 0.2493 - val_accuracy: 0.9142\n",
            "Epoch 15/15\n",
            "422/422 [==============================] - 23s 56ms/step - loss: 0.2212 - accuracy: 0.9184 - val_loss: 0.2434 - val_accuracy: 0.9103\n"
          ]
        }
      ]
    },
    {
      "cell_type": "code",
      "source": [
        "# Creating a different model using some output layers from the trained network (for hierarchy)\n",
        "\n",
        "all_layers = [layer.output for layer in [model.get_layer(index=0),\n",
        "                                        model.get_layer(index=1),\n",
        "                                        model.get_layer(index=2),\n",
        "                                        model.get_layer(index=3),\n",
        "                                        model.get_layer(index=4),\n",
        "                                        model.get_layer(index=5)]]\n",
        "\n",
        "all_model = tf.keras.Model(inputs=model.inputs, outputs=all_layers)\n",
        "all_model.summary()"
      ],
      "metadata": {
        "colab": {
          "base_uri": "https://localhost:8080/"
        },
        "id": "VOwgL6hlPOJ7",
        "outputId": "65c12a3d-d013-405a-f34a-447b37bf6c18"
      },
      "execution_count": 7,
      "outputs": [
        {
          "output_type": "stream",
          "name": "stdout",
          "text": [
            "Model: \"model\"\n",
            "_________________________________________________________________\n",
            " Layer (type)                Output Shape              Param #   \n",
            "=================================================================\n",
            " conv2d_input (InputLayer)   [(None, 28, 28, 1)]       0         \n",
            "                                                                 \n",
            " conv2d (Conv2D)             (None, 14, 14, 32)        288       \n",
            "                                                                 \n",
            " batch_normalization (BatchN  (None, 14, 14, 32)       128       \n",
            " ormalization)                                                   \n",
            "                                                                 \n",
            " activation (Activation)     (None, 14, 14, 32)        0         \n",
            "                                                                 \n",
            " conv2d_1 (Conv2D)           (None, 7, 7, 64)          18432     \n",
            "                                                                 \n",
            " batch_normalization_1 (Batc  (None, 7, 7, 64)         256       \n",
            " hNormalization)                                                 \n",
            "                                                                 \n",
            " activation_1 (Activation)   (None, 7, 7, 64)          0         \n",
            "                                                                 \n",
            "=================================================================\n",
            "Total params: 19,104\n",
            "Trainable params: 18,912\n",
            "Non-trainable params: 192\n",
            "_________________________________________________________________\n"
          ]
        }
      ]
    },
    {
      "cell_type": "code",
      "source": [
        "# Creating a model with hieracrchy\n",
        "\n",
        "model_hierarchy = models.Sequential(\n",
        "    [        \n",
        "        layers.Conv2D(32, kernel_size=(3, 3),\n",
        "                      input_shape=(28, 28, 1),\n",
        "                      strides=(2,2), padding=\"same\",\n",
        "                      use_bias=False),\n",
        "        layers.BatchNormalization(),\n",
        "        layers.Activation(activation=\"relu\"),\n",
        "        \n",
        "        models.Sequential(\n",
        "            [\n",
        "                layers.Conv2D(32, kernel_size=(3, 3),\n",
        "                      input_shape=(14, 14, 32),\n",
        "                      strides=(2,2), padding=\"same\",\n",
        "                      use_bias=False),\n",
        "                layers.BatchNormalization(),\n",
        "                layers.Activation(activation=\"relu\"),\n",
        "            ]\n",
        "        ),\n",
        "\n",
        "        layers.Conv2D(64, kernel_size=(3, 3),\n",
        "                      strides=(2,2), padding=\"same\",\n",
        "                      use_bias=False),\n",
        "        layers.BatchNormalization(),\n",
        "        layers.Activation(activation=\"relu\"),\n",
        "        #layers.MaxPooling2D(pool_size=(2, 2)),\n",
        "        layers.Flatten(),\n",
        "        layers.Dropout(0.5),\n",
        "        layers.Dense(10, activation='softmax')\n",
        "    ]\n",
        ")"
      ],
      "metadata": {
        "id": "vIZL_9mp6xJD"
      },
      "execution_count": 28,
      "outputs": []
    },
    {
      "cell_type": "code",
      "source": [
        "model_hierarchy.summary()"
      ],
      "metadata": {
        "colab": {
          "base_uri": "https://localhost:8080/"
        },
        "id": "RE1r7OHgHAbd",
        "outputId": "0ca08a91-d134-429d-848c-2132f6a56a25"
      },
      "execution_count": 29,
      "outputs": [
        {
          "output_type": "stream",
          "name": "stdout",
          "text": [
            "Model: \"sequential_8\"\n",
            "_________________________________________________________________\n",
            " Layer (type)                Output Shape              Param #   \n",
            "=================================================================\n",
            " conv2d_25 (Conv2D)          (None, 14, 14, 32)        288       \n",
            "                                                                 \n",
            " batch_normalization_25 (Bat  (None, 14, 14, 32)       128       \n",
            " chNormalization)                                                \n",
            "                                                                 \n",
            " activation_25 (Activation)  (None, 14, 14, 32)        0         \n",
            "                                                                 \n",
            " sequential_7 (Sequential)   (None, 7, 7, 32)          9344      \n",
            "                                                                 \n",
            " conv2d_27 (Conv2D)          (None, 4, 4, 64)          18432     \n",
            "                                                                 \n",
            " batch_normalization_27 (Bat  (None, 4, 4, 64)         256       \n",
            " chNormalization)                                                \n",
            "                                                                 \n",
            " activation_27 (Activation)  (None, 4, 4, 64)          0         \n",
            "                                                                 \n",
            " flatten_5 (Flatten)         (None, 1024)              0         \n",
            "                                                                 \n",
            " dropout_5 (Dropout)         (None, 1024)              0         \n",
            "                                                                 \n",
            " dense_5 (Dense)             (None, 10)                10250     \n",
            "                                                                 \n",
            "=================================================================\n",
            "Total params: 38,698\n",
            "Trainable params: 38,442\n",
            "Non-trainable params: 256\n",
            "_________________________________________________________________\n"
          ]
        }
      ]
    },
    {
      "cell_type": "code",
      "source": [
        "# Calculating MACs of complete model using a buil in function\n",
        "\n",
        "flops = get_flops(model, batch_size=1)\n",
        "flops = get_flops(model, batch_size=1)\n",
        "print(f\"FLOPS for the entire model: {flops}\")"
      ],
      "metadata": {
        "colab": {
          "base_uri": "https://localhost:8080/"
        },
        "id": "XX9WbrMZSaNn",
        "outputId": "89934954-6f31-433e-aca6-18e0a8d515c3"
      },
      "execution_count": 24,
      "outputs": [
        {
          "output_type": "stream",
          "name": "stdout",
          "text": [
            "FLOPS for the entire model: 2001404\n"
          ]
        }
      ]
    },
    {
      "cell_type": "code",
      "source": [
        "for li in model.layers:\n",
        "  cfg = li.get_config()\n",
        "  print(li.name)\n",
        "  print(cfg)"
      ],
      "metadata": {
        "colab": {
          "base_uri": "https://localhost:8080/"
        },
        "id": "BQRQEpibDZAK",
        "outputId": "b2516e2e-0bf9-41ed-f3ec-6bfd35dffb9f"
      },
      "execution_count": 32,
      "outputs": [
        {
          "output_type": "stream",
          "name": "stdout",
          "text": [
            "conv2d\n",
            "{'name': 'conv2d', 'trainable': True, 'batch_input_shape': (None, 28, 28, 1), 'dtype': 'float32', 'filters': 32, 'kernel_size': (3, 3), 'strides': (2, 2), 'padding': 'same', 'data_format': 'channels_last', 'dilation_rate': (1, 1), 'groups': 1, 'activation': 'linear', 'use_bias': False, 'kernel_initializer': {'class_name': 'GlorotUniform', 'config': {'seed': None}}, 'bias_initializer': {'class_name': 'Zeros', 'config': {}}, 'kernel_regularizer': None, 'bias_regularizer': None, 'activity_regularizer': None, 'kernel_constraint': None, 'bias_constraint': None}\n",
            "batch_normalization\n",
            "{'name': 'batch_normalization', 'trainable': True, 'dtype': 'float32', 'axis': ListWrapper([3]), 'momentum': 0.99, 'epsilon': 0.001, 'center': True, 'scale': True, 'beta_initializer': {'class_name': 'Zeros', 'config': {}}, 'gamma_initializer': {'class_name': 'Ones', 'config': {}}, 'moving_mean_initializer': {'class_name': 'Zeros', 'config': {}}, 'moving_variance_initializer': {'class_name': 'Ones', 'config': {}}, 'beta_regularizer': None, 'gamma_regularizer': None, 'beta_constraint': None, 'gamma_constraint': None}\n",
            "activation\n",
            "{'name': 'activation', 'trainable': True, 'dtype': 'float32', 'activation': 'relu'}\n",
            "conv2d_1\n",
            "{'name': 'conv2d_1', 'trainable': True, 'dtype': 'float32', 'filters': 64, 'kernel_size': (3, 3), 'strides': (2, 2), 'padding': 'same', 'data_format': 'channels_last', 'dilation_rate': (1, 1), 'groups': 1, 'activation': 'linear', 'use_bias': False, 'kernel_initializer': {'class_name': 'GlorotUniform', 'config': {'seed': None}}, 'bias_initializer': {'class_name': 'Zeros', 'config': {}}, 'kernel_regularizer': None, 'bias_regularizer': None, 'activity_regularizer': None, 'kernel_constraint': None, 'bias_constraint': None}\n",
            "batch_normalization_1\n",
            "{'name': 'batch_normalization_1', 'trainable': True, 'dtype': 'float32', 'axis': ListWrapper([3]), 'momentum': 0.99, 'epsilon': 0.001, 'center': True, 'scale': True, 'beta_initializer': {'class_name': 'Zeros', 'config': {}}, 'gamma_initializer': {'class_name': 'Ones', 'config': {}}, 'moving_mean_initializer': {'class_name': 'Zeros', 'config': {}}, 'moving_variance_initializer': {'class_name': 'Ones', 'config': {}}, 'beta_regularizer': None, 'gamma_regularizer': None, 'beta_constraint': None, 'gamma_constraint': None}\n",
            "activation_1\n",
            "{'name': 'activation_1', 'trainable': True, 'dtype': 'float32', 'activation': 'relu'}\n",
            "flatten\n",
            "{'name': 'flatten', 'trainable': True, 'dtype': 'float32', 'data_format': 'channels_last'}\n",
            "dropout\n",
            "{'name': 'dropout', 'trainable': True, 'dtype': 'float32', 'rate': 0.5, 'noise_shape': None, 'seed': None}\n",
            "dense\n",
            "{'name': 'dense', 'trainable': True, 'dtype': 'float32', 'units': 10, 'activation': 'softmax', 'use_bias': True, 'kernel_initializer': {'class_name': 'GlorotUniform', 'config': {'seed': None}}, 'bias_initializer': {'class_name': 'Zeros', 'config': {}}, 'kernel_regularizer': None, 'bias_regularizer': None, 'activity_regularizer': None, 'kernel_constraint': None, 'bias_constraint': None}\n"
          ]
        }
      ]
    },
    {
      "cell_type": "code",
      "source": [
        "for l in model.layers:\n",
        "  if ('InputLayer' in str(l)):\n",
        "            i_shape = l.input.get_shape()[1:4].as_list()\n",
        "            o_shape = i_shape\n",
        "  print(\"Input:%f\", {i_shape})\n",
        "\n"
      ],
      "metadata": {
        "id": "vljJrYjCLyPz"
      },
      "execution_count": null,
      "outputs": []
    },
    {
      "cell_type": "code",
      "source": [
        "# Calculating FLOPs for each layer of the model\n",
        "def flops_per_layer(model):\n",
        "    \n",
        "    # To print the output in the tabular form:\n",
        "    print('%25s | %16s | %16s | %16s | %16s | %6s | %6s' % (\n",
        "        'Layer', 'Input Shape', 'Output Shape', 'Kernel Size', 'Filters', 'Strides', 'MACs'))\n",
        "    print('*' * 170)\n",
        "    \n",
        "    # Initialising:\n",
        "    t_macc = 0\n",
        "\n",
        "    # Iterarting through every layer/ model in the main model\n",
        "    for l in model.layers:\n",
        "\n",
        "        o_shape, i_shape, strides, ks, filters = ['', '', ''], ['', '', ''], [1, 1], [0, 0], [0, 0]\n",
        "        \n",
        "        macc = 0\n",
        "        name = l.name\n",
        "\n",
        "        if ('Sequential' in str(l)):\n",
        "            macc =  flops_per_layer(l)\n",
        "\n",
        "        if ('InputLayer' in str(l)):\n",
        "            i_shape = l.input.get_shape()[1:4].as_list()\n",
        "            o_shape = i_shape\n",
        "\n",
        "        if ('Reshape' in str(l)):\n",
        "            i_shape = l.input.get_shape()[1:4].as_list()\n",
        "            o_shape = l.output.get_shape()[1:4].as_list()\n",
        "       \n",
        "\n",
        "        if ('Dense' in str(l)):\n",
        "            print(l.input)\n",
        "            i_shape = l.input.shape[1:4].as_list()[0]\n",
        "            o_shape = l.output.shape[1:4].as_list()\n",
        "            macc = (o_shape[0] * i_shape)\n",
        "\n",
        "        \n",
        "        if ('Conv2D ' in str(l) and 'DepthwiseConv2D' not in str(l) and 'SeparableConv2D' not in str(l)):\n",
        "            strides = l.strides\n",
        "            ks = l.kernel_size\n",
        "            filters = l.filters\n",
        "            i_shape = l.input.get_shape()[1:4].as_list()\n",
        "            o_shape = l.output.get_shape()[1:4].as_list()\n",
        "\n",
        "            if (filters == None):\n",
        "                filters = i_shape[2]\n",
        "\n",
        "            macc = ((filters * ks[0] * ks[1] * i_shape[2]) * (\n",
        "                    (i_shape[0] / strides[0]) * (i_shape[1] / strides[1])))\n",
        "\n",
        "        if ('Conv2D ' in str(l) and 'DepthwiseConv2D' in str(l) and 'SeparableConv2D' not in str(l)):\n",
        "            strides = l.strides\n",
        "            ks = l.kernel_size\n",
        "            filters = l.filters\n",
        "            i_shape = l.input.get_shape()[1:4].as_list()\n",
        "            o_shape = l.output.get_shape()[1:4].as_list()\n",
        "\n",
        "            if (filters == None):\n",
        "                filters = i_shape[2]\n",
        "\n",
        "            macc = ((ks[0] * ks[1] * i_shape[2]) * ((i_shape[0] / strides[0]) * (i_shape[1] / strides[1]))) \n",
        "             \n",
        "        \n",
        "        # t_macc += macc        \n",
        "        print('%25s | %16s | %16s | %16s | %16s | %6s | %5.4f' % (\n",
        "            name, str(i_shape), str(o_shape), str(ks), str(filters), str(strides), macc))\n",
        "    \n",
        "    \n",
        "    # print('\\nTotal MACs for the entire model: %10.8f\\n' % (t_macc))\n",
        "\n",
        "    return"
      ],
      "metadata": {
        "id": "tHC87bBRCn5b"
      },
      "execution_count": 54,
      "outputs": []
    },
    {
      "cell_type": "code",
      "source": [
        "flops_per_layer(model_hierarchy)"
      ],
      "metadata": {
        "id": "WctxTJnWOyjm"
      },
      "execution_count": null,
      "outputs": []
    },
    {
      "cell_type": "code",
      "source": [
        "# Function to calculate return MAC from each layer\n",
        "\n",
        "def mac_each_layer(l):\n",
        "    o_shape, i_shape, strides, ks, filters = ['', '', ''], ['', '', ''], [1, 1], [0, 0], [0, 0]        \n",
        "    macc = 0\n",
        "    \n",
        "    if ('Dense' in str(l)):\n",
        "        print(l.input)\n",
        "        i_shape = l.input.shape[1:4].as_list()[0]\n",
        "        o_shape = l.output.shape[1:4].as_list()\n",
        "        macc = (o_shape[0] * i_shape)\n",
        "\n",
        "    \n",
        "    if ('Conv2D ' in str(l) and 'DepthwiseConv2D' not in str(l) and 'SeparableConv2D' not in str(l)):\n",
        "        strides = l.strides\n",
        "        ks = l.kernel_size\n",
        "        filters = l.filters\n",
        "        i_shape = l.input.get_shape()[1:4].as_list()\n",
        "        o_shape = l.output.get_shape()[1:4].as_list()\n",
        "\n",
        "        if (filters == None):\n",
        "            filters = i_shape[2]\n",
        "\n",
        "        macc = ((filters * ks[0] * ks[1] * i_shape[2]) * (\n",
        "                (i_shape[0] / strides[0]) * (i_shape[1] / strides[1])))\n",
        "\n",
        "    if ('Conv2D ' in str(l) and 'DepthwiseConv2D' in str(l) and 'SeparableConv2D' not in str(l)):\n",
        "        strides = l.strides\n",
        "        ks = l.kernel_size\n",
        "        filters = l.filters\n",
        "        i_shape = l.input.get_shape()[1:4].as_list()\n",
        "        o_shape = l.output.get_shape()[1:4].as_list()\n",
        "\n",
        "        if (filters == None):\n",
        "            filters = i_shape[2]\n",
        "\n",
        "        macc = ((ks[0] * ks[1] * i_shape[2]) * ((i_shape[0] / strides[0]) * (i_shape[1] / strides[1])))\n",
        "\n",
        "    return macc\n",
        "\n"
      ],
      "metadata": {
        "id": "cdZwIefUMsiT"
      },
      "execution_count": 66,
      "outputs": []
    },
    {
      "cell_type": "code",
      "source": [
        "# Function to pass layers to the calculating function and to get the macc of each layer\n",
        "\n",
        "def summary_MAC(model,table=True):\n",
        "  if (table == True):\n",
        "        print('%25s | %6s' % (\n",
        "            'Layer Name', 'MACs'))\n",
        "        print('*' * 100)\n",
        "  t_macc = 0\n",
        "\n",
        "  for l in model.layers:\n",
        "    if ('Sequential' in str(l)):\n",
        "      for ib_layer in l.layers:\n",
        "        mac_obtained = mac_each_layer(ib_layer)\n",
        "        print('%25s(%5s) | %5.4f' % (\n",
        "                l.name,ib_layer.name, mac_obtained ))\n",
        "        t_macc += mac_obtained  \n",
        "\n",
        "    else:\n",
        "      mac_obtained = mac_each_layer(l)\n",
        "      print('%25s | %5.4f' % (\n",
        "                l.name, mac_obtained ))\n",
        "      \n",
        "    t_macc += mac_obtained\n",
        "  print('\\nTotal MACs operations in the complete model: %10.8f\\n' % (t_macc))\n",
        "  return"
      ],
      "metadata": {
        "id": "3e4S1_awQ4rH"
      },
      "execution_count": 101,
      "outputs": []
    },
    {
      "cell_type": "code",
      "source": [
        "summary_MAC(model_hierarchy)"
      ],
      "metadata": {
        "colab": {
          "base_uri": "https://localhost:8080/"
        },
        "id": "Yhk4jAt4boxh",
        "outputId": "85700a3c-37be-4386-fc74-e48b60ef5050"
      },
      "execution_count": 102,
      "outputs": [
        {
          "output_type": "stream",
          "name": "stdout",
          "text": [
            "               Layer Name |   MACs\n",
            "****************************************************************************************************\n",
            "                conv2d_28 | 56448.0000\n",
            "   batch_normalization_28 | 0.0000\n",
            "            activation_28 | 0.0000\n",
            "             sequential_9(conv2d_29) | 451584.0000\n",
            "             sequential_9(batch_normalization_29) | 0.0000\n",
            "             sequential_9(activation_29) | 0.0000\n",
            "                conv2d_30 | 225792.0000\n",
            "   batch_normalization_30 | 0.0000\n",
            "            activation_30 | 0.0000\n",
            "                flatten_6 | 0.0000\n",
            "                dropout_6 | 0.0000\n",
            "KerasTensor(type_spec=TensorSpec(shape=(None, 1024), dtype=tf.float32, name=None), name='dropout_6/Identity:0', description=\"created by layer 'dropout_6'\")\n",
            "                  dense_6 | 10240.0000\n",
            "\n",
            "Total MACs operations in the complete model: 744064.00000000\n",
            "\n"
          ]
        }
      ]
    }
  ]
}