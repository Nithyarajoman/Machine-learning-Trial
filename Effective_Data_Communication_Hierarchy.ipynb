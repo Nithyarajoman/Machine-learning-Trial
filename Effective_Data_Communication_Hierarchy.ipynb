{
  "nbformat": 4,
  "nbformat_minor": 0,
  "metadata": {
    "colab": {
      "provenance": [],
      "authorship_tag": "ABX9TyN5GG634R5O11i720U9E7jz",
      "include_colab_link": true
    },
    "kernelspec": {
      "name": "python3",
      "display_name": "Python 3"
    },
    "language_info": {
      "name": "python"
    }
  },
  "cells": [
    {
      "cell_type": "markdown",
      "metadata": {
        "id": "view-in-github",
        "colab_type": "text"
      },
      "source": [
        "<a href=\"https://colab.research.google.com/github/Nithyarajoman/Machine-learning-Trial/blob/main/Effective_Data_Communication_Hierarchy.ipynb\" target=\"_parent\"><img src=\"https://colab.research.google.com/assets/colab-badge.svg\" alt=\"Open In Colab\"/></a>"
      ]
    },
    {
      "cell_type": "code",
      "execution_count": 1,
      "metadata": {
        "id": "NCFRxMUsws8x"
      },
      "outputs": [],
      "source": [
        "import numpy as np\n",
        "import tensorflow as tf\n",
        "from tensorflow import keras\n",
        "from tensorflow.keras import layers,models\n",
        "from tensorflow.keras.layers import Input, Dense, Conv2D, MaxPooling2D, Flatten, Dropout\n",
        "from keras.models import Sequential, Model"
      ]
    },
    {
      "cell_type": "code",
      "source": [
        "# Read data\n",
        "(x_train, y_train), (x_test, y_test) = keras.datasets.fashion_mnist.load_data()\n",
        "x_train = x_train.reshape(x_train.shape[0], 28, 28, 1).astype('float')/255\n",
        "x_train_2 = x_train.reshape(-1, 14, 14, 32).astype('float')/255\n",
        "x_test = x_test.reshape(x_test.shape[0], 28, 28, 1).astype('float')/255\n",
        "\n",
        "print(x_train_2.shape)"
      ],
      "metadata": {
        "colab": {
          "base_uri": "https://localhost:8080/"
        },
        "id": "G6beSAvZwvSp",
        "outputId": "8b1d9272-ad90-47d3-e8f2-84eea3c463f4"
      },
      "execution_count": 2,
      "outputs": [
        {
          "output_type": "stream",
          "name": "stdout",
          "text": [
            "Downloading data from https://storage.googleapis.com/tensorflow/tf-keras-datasets/train-labels-idx1-ubyte.gz\n",
            "29515/29515 [==============================] - 0s 0us/step\n",
            "Downloading data from https://storage.googleapis.com/tensorflow/tf-keras-datasets/train-images-idx3-ubyte.gz\n",
            "26421880/26421880 [==============================] - 0s 0us/step\n",
            "Downloading data from https://storage.googleapis.com/tensorflow/tf-keras-datasets/t10k-labels-idx1-ubyte.gz\n",
            "5148/5148 [==============================] - 0s 0us/step\n",
            "Downloading data from https://storage.googleapis.com/tensorflow/tf-keras-datasets/t10k-images-idx3-ubyte.gz\n",
            "4422102/4422102 [==============================] - 0s 0us/step\n",
            "(7500, 14, 14, 32)\n"
          ]
        }
      ]
    },
    {
      "cell_type": "code",
      "source": [
        "# Create Model\n",
        "model_hierarchy = keras.models.Sequential(\n",
        "    [        \n",
        "        layers.Conv2D(32, kernel_size=(3, 3),\n",
        "                      input_shape=(28, 28, 1),\n",
        "                      strides=(2,2), padding=\"same\",\n",
        "                      use_bias=False),\n",
        "        layers.BatchNormalization(),\n",
        "        layers.Activation(activation=\"relu\"),\n",
        "        \n",
        "        models.Sequential(\n",
        "            [\n",
        "                layers.Conv2D(32, kernel_size=(3, 3),\n",
        "                      input_shape=(14, 14, 32),\n",
        "                      strides=(2,2), padding=\"same\",\n",
        "                      use_bias=False),\n",
        "                layers.BatchNormalization(),\n",
        "                layers.Activation(activation=\"relu\"),\n",
        "            ]\n",
        "        ),\n",
        "\n",
        "        layers.Conv2D(64, kernel_size=(3, 3),\n",
        "                      strides=(2,2), padding=\"same\",\n",
        "                      use_bias=False),\n",
        "        layers.BatchNormalization(),\n",
        "        layers.Activation(activation=\"relu\"),\n",
        "        layers.Flatten(),\n",
        "        layers.Dropout(0.5),\n",
        "        layers.Dense(10, activation='softmax')\n",
        "    ]\n",
        ")"
      ],
      "metadata": {
        "id": "Fb82S96Pwx47"
      },
      "execution_count": 3,
      "outputs": []
    },
    {
      "cell_type": "code",
      "source": [
        "model_hierarchy.summary()"
      ],
      "metadata": {
        "id": "2GagR_GvwzqR"
      },
      "execution_count": null,
      "outputs": []
    },
    {
      "cell_type": "code",
      "source": [
        "# Train\n",
        "model_hierarchy.compile(optimizer='adam',\n",
        "              loss='sparse_categorical_crossentropy',\n",
        "              metrics=['accuracy'])\n",
        "model_hierarchy.fit(x=x_train, y=y_train, epochs=5, batch_size=128, validation_split=0.1 )\n",
        "score = model_hierarchy.evaluate(x_test, y_test, verbose=0)"
      ],
      "metadata": {
        "colab": {
          "base_uri": "https://localhost:8080/"
        },
        "id": "z99Q-bz1w20o",
        "outputId": "1c4efdae-006c-44be-8b22-2e881bfd075b"
      },
      "execution_count": 4,
      "outputs": [
        {
          "output_type": "stream",
          "name": "stdout",
          "text": [
            "Epoch 1/5\n",
            "422/422 [==============================] - 23s 51ms/step - loss: 0.5907 - accuracy: 0.7914 - val_loss: 0.6763 - val_accuracy: 0.7800\n",
            "Epoch 2/5\n",
            "422/422 [==============================] - 21s 51ms/step - loss: 0.3898 - accuracy: 0.8587 - val_loss: 0.3194 - val_accuracy: 0.8833\n",
            "Epoch 3/5\n",
            "422/422 [==============================] - 22s 53ms/step - loss: 0.3412 - accuracy: 0.8752 - val_loss: 0.2953 - val_accuracy: 0.8943\n",
            "Epoch 4/5\n",
            "422/422 [==============================] - 22s 52ms/step - loss: 0.3142 - accuracy: 0.8857 - val_loss: 0.2765 - val_accuracy: 0.8988\n",
            "Epoch 5/5\n",
            "422/422 [==============================] - 22s 52ms/step - loss: 0.2934 - accuracy: 0.8929 - val_loss: 0.2810 - val_accuracy: 0.8980\n"
          ]
        }
      ]
    },
    {
      "cell_type": "code",
      "source": [
        "# Building new model with multiple output layers\n",
        "all_layers = [layer.output for layer in [model_hierarchy.get_layer(index=0),\n",
        "                                        model_hierarchy.get_layer(index=1),\n",
        "                                        model_hierarchy.get_layer(index=2),\n",
        "                                        model_hierarchy.get_layer(index=3),\n",
        "                                        model_hierarchy.get_layer(index=4),\n",
        "                                        model_hierarchy.get_layer(index=5),\n",
        "                                        model_hierarchy.get_layer(index=6),\n",
        "                                        model_hierarchy.get_layer(index=7)]]\n"
      ],
      "metadata": {
        "id": "ENw-myPBw42a"
      },
      "execution_count": 5,
      "outputs": []
    },
    {
      "cell_type": "code",
      "source": [
        "# Creating model\n",
        "\n",
        "all_model = keras.Model(inputs=[model_hierarchy.inputs,model_hierarchy.get_layer('sequential').inputs], outputs=all_layers)\n",
        "# all_model = keras.Model(inputs=[model_hierarchy.inputs,model_hierarchy.get_layer('sequential').get_input_at(0)], outputs=all_layers)\n",
        "all_model.summary()"
      ],
      "metadata": {
        "colab": {
          "base_uri": "https://localhost:8080/"
        },
        "id": "UgNms1A8w-YH",
        "outputId": "1dbfd953-8d32-476b-e0fc-dfcf0411dc7d"
      },
      "execution_count": 6,
      "outputs": [
        {
          "output_type": "stream",
          "name": "stdout",
          "text": [
            "Model: \"model\"\n",
            "__________________________________________________________________________________________________\n",
            " Layer (type)                   Output Shape         Param #     Connected to                     \n",
            "==================================================================================================\n",
            " conv2d_input (InputLayer)      [(None, 28, 28, 1)]  0           []                               \n",
            "                                                                                                  \n",
            " conv2d (Conv2D)                (None, 14, 14, 32)   288         ['conv2d_input[0][0]']           \n",
            "                                                                                                  \n",
            " batch_normalization (BatchNorm  (None, 14, 14, 32)  128         ['conv2d[0][0]']                 \n",
            " alization)                                                                                       \n",
            "                                                                                                  \n",
            " activation (Activation)        (None, 14, 14, 32)   0           ['batch_normalization[0][0]']    \n",
            "                                                                                                  \n",
            " sequential (Sequential)        (None, 7, 7, 32)     9344        ['activation[0][0]']             \n",
            "                                                                                                  \n",
            " conv2d_1_input (InputLayer)    [(None, 14, 14, 32)  0           []                               \n",
            "                                ]                                                                 \n",
            "                                                                                                  \n",
            " conv2d_2 (Conv2D)              (None, 4, 4, 64)     18432       ['sequential[0][0]']             \n",
            "                                                                                                  \n",
            " conv2d_1 (Conv2D)              (None, 7, 7, 32)     9216        ['conv2d_1_input[0][0]']         \n",
            "                                                                                                  \n",
            " batch_normalization_2 (BatchNo  (None, 4, 4, 64)    256         ['conv2d_2[0][0]']               \n",
            " rmalization)                                                                                     \n",
            "                                                                                                  \n",
            " batch_normalization_1 (BatchNo  (None, 7, 7, 32)    128         ['conv2d_1[0][0]']               \n",
            " rmalization)                                                                                     \n",
            "                                                                                                  \n",
            " activation_2 (Activation)      (None, 4, 4, 64)     0           ['batch_normalization_2[0][0]']  \n",
            "                                                                                                  \n",
            " activation_1 (Activation)      (None, 7, 7, 32)     0           ['batch_normalization_1[0][0]']  \n",
            "                                                                                                  \n",
            " flatten (Flatten)              (None, 1024)         0           ['activation_2[0][0]']           \n",
            "                                                                                                  \n",
            "==================================================================================================\n",
            "Total params: 28,448\n",
            "Trainable params: 28,192\n",
            "Non-trainable params: 256\n",
            "__________________________________________________________________________________________________\n"
          ]
        }
      ]
    },
    {
      "cell_type": "code",
      "source": [
        "aux = all_model([x_train[:100],x_train_2[:100]])"
      ],
      "metadata": {
        "id": "tVY1FVSBxDJd"
      },
      "execution_count": 7,
      "outputs": []
    },
    {
      "cell_type": "code",
      "source": [
        "# Function to calculate the number of non zer elements in each layer\n",
        "\n",
        "def non_zeroes_layer(l):\n",
        "    \n",
        "    prob_non_zeroes=tf.math.count_nonzero(l)\n",
        "    total=tf.size(l)\n",
        "\n",
        "    prob_non_zeroes_count=prob_non_zeroes.numpy()\n",
        "    total_count=total.numpy() \n",
        "\n",
        "    prob_non_zeroes_prob = prob_non_zeroes_count/total_count\n",
        "    # print(prob_non_zeroes_prob) \n",
        "    return prob_non_zeroes_prob\n",
        "    # zeroes = total.numpy() - y.numpy()\n",
        "    # print(\"No of elements that are non-zeroes in  layer[]: %i \" %prob_non_zeroes)"
      ],
      "metadata": {
        "id": "A0DzAuBqxGHS"
      },
      "execution_count": 37,
      "outputs": []
    },
    {
      "cell_type": "code",
      "source": [
        "# Passing layers to the function to get the count\n",
        "\n",
        "def summary_communication(model):\n",
        "  print('%25s | %6s' % (\n",
        "      'Layer Number', 'Effective communication'))\n",
        "  print('*' * 100)\n",
        "\n",
        "  for l,value in enumerate(model):\n",
        "        x=model[l]\n",
        "        probability = non_zeroes_layer(x)\n",
        "        print('%25s | %5.4f' % (\n",
        "                    l, probability ))\n",
        "    \n",
        "  return"
      ],
      "metadata": {
        "id": "wmAB0Wf3xJH2"
      },
      "execution_count": 35,
      "outputs": []
    },
    {
      "cell_type": "code",
      "source": [
        "summary_communication(aux)"
      ],
      "metadata": {
        "colab": {
          "base_uri": "https://localhost:8080/"
        },
        "id": "FomYa7bmxLzI",
        "outputId": "f4b8cdfb-a7a2-4d6f-a210-631b8c8c5b07"
      },
      "execution_count": 38,
      "outputs": [
        {
          "output_type": "stream",
          "name": "stdout",
          "text": [
            "             Layer Number | Effective communication\n",
            "****************************************************************************************************\n",
            "                        0 | 0.6448\n",
            "                        1 | 1.0000\n",
            "                        2 | 0.5019\n",
            "                        3 | 0.5955\n",
            "                        4 | 1.0000\n",
            "                        5 | 1.0000\n",
            "                        6 | 0.4427\n",
            "                        7 | 0.4427\n"
          ]
        }
      ]
    }
  ]
}