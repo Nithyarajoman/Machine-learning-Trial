{
  "nbformat": 4,
  "nbformat_minor": 0,
  "metadata": {
    "colab": {
      "provenance": [],
      "authorship_tag": "ABX9TyPzv/02bnXQ/Z2lspDXCfhN",
      "include_colab_link": true
    },
    "kernelspec": {
      "name": "python3",
      "display_name": "Python 3"
    },
    "language_info": {
      "name": "python"
    }
  },
  "cells": [
    {
      "cell_type": "markdown",
      "metadata": {
        "id": "view-in-github",
        "colab_type": "text"
      },
      "source": [
        "<a href=\"https://colab.research.google.com/github/Nithyarajoman/Machine-learning-Trial/blob/main/Library_Functions.ipynb\" target=\"_parent\"><img src=\"https://colab.research.google.com/assets/colab-badge.svg\" alt=\"Open In Colab\"/></a>"
      ]
    },
    {
      "cell_type": "code",
      "execution_count": null,
      "metadata": {
        "id": "OSZrumTB1Jtd"
      },
      "outputs": [],
      "source": [
        "import numpy as np\n",
        "import tensorflow as tf\n",
        "from tensorflow import keras\n",
        "from tensorflow.keras import layers, models"
      ]
    },
    {
      "cell_type": "code",
      "source": [
        "# Read data\n",
        "(x_train, y_train), (x_test, y_test) = keras.datasets.fashion_mnist.load_data()\n",
        "x_train = x_train.reshape(x_train.shape[0], 28, 28, 1).astype('float')/255\n",
        "x_test = x_test.reshape(x_test.shape[0], 28, 28, 1).astype('float')/255"
      ],
      "metadata": {
        "id": "CpaOM1tY3p8p"
      },
      "execution_count": null,
      "outputs": []
    },
    {
      "cell_type": "code",
      "source": [
        "# Create Model\n",
        "model_hierarchy = models.Sequential(\n",
        "    [        \n",
        "        layers.Conv2D(32, kernel_size=(3, 3),\n",
        "                      input_shape=(28, 28, 1),\n",
        "                      strides=(2,2), padding=\"same\",\n",
        "                      use_bias=False),\n",
        "        layers.BatchNormalization(),\n",
        "        layers.Activation(activation=\"relu\"),\n",
        "        #layers.MaxPooling2D(pool_size=(2, 2)),\n",
        "        models.Sequential([\n",
        "            layers.Conv2D(64, kernel_size=(3, 3),\n",
        "                          strides=(2,2), padding=\"valid\",\n",
        "                          use_bias=False),\n",
        "            layers.BatchNormalization(),\n",
        "            layers.Activation(activation=\"relu\")\n",
        "            ]),            \n",
        "        #layers.MaxPooling2D(pool_size=(2, 2)),\n",
        "        layers.Flatten(),\n",
        "        layers.Dropout(0.5),\n",
        "        layers.Dense(10, activation='softmax')\n",
        "    ]\n",
        ")"
      ],
      "metadata": {
        "id": "0Xbd8roZ3vX2"
      },
      "execution_count": null,
      "outputs": []
    },
    {
      "cell_type": "code",
      "source": [
        "# Train\n",
        "model_hierarchy.compile(optimizer='adam',\n",
        "              loss='sparse_categorical_crossentropy',\n",
        "              metrics=['accuracy'])\n",
        "model_hierarchy.fit(x=x_train, y=y_train, epochs=5, batch_size=128, validation_split=0.1 )\n",
        "score = model_hierarchy.evaluate(x_test, y_test, verbose=0)"
      ],
      "metadata": {
        "id": "6dM8DAWt5EZC"
      },
      "execution_count": null,
      "outputs": []
    },
    {
      "cell_type": "code",
      "source": [
        "# Function to calculate return MAC from each layer\n",
        "\n",
        "def mac_each_layer(l):\n",
        "    o_shape, i_shape, strides, ks, filters = ['', '', ''], ['', '', ''], [1, 1], [0, 0], [0, 0]        \n",
        "    macc = 0\n",
        "    \n",
        "    if ('Dense' in str(l)):\n",
        "        i_shape = l.input.shape[1:4].as_list()[0]\n",
        "        o_shape = l.output.shape[1:4].as_list()\n",
        "        macc = (o_shape[0] * i_shape)\n",
        "\n",
        "    \n",
        "    if ('Conv2D ' in str(l) and 'DepthwiseConv2D' not in str(l) and 'SeparableConv2D' not in str(l)):\n",
        "        strides = l.strides\n",
        "        ks = l.kernel_size\n",
        "        filters = l.filters\n",
        "        i_shape = l.input.get_shape()[1:4].as_list()\n",
        "        o_shape = l.output.get_shape()[1:4].as_list()\n",
        "\n",
        "        if (filters == None):\n",
        "            filters = i_shape[2]\n",
        "\n",
        "        macc = ((filters * ks[0] * ks[1] * i_shape[2]) * (\n",
        "                (i_shape[0] / strides[0]) * (i_shape[1] / strides[1])))\n",
        "\n",
        "    if ('Conv2D ' in str(l) and 'DepthwiseConv2D' in str(l) and 'SeparableConv2D' not in str(l)):\n",
        "        strides = l.strides\n",
        "        ks = l.kernel_size\n",
        "        filters = l.filters\n",
        "        i_shape = l.input.get_shape()[1:4].as_list()\n",
        "        o_shape = l.output.get_shape()[1:4].as_list()\n",
        "\n",
        "        if (filters == None):\n",
        "            filters = i_shape[2]\n",
        "\n",
        "        macc = ((ks[0] * ks[1] * i_shape[2]) * ((i_shape[0] / strides[0]) * (i_shape[1] / strides[1])))\n",
        "\n",
        "    return macc"
      ],
      "metadata": {
        "id": "TtOvfGaT34lM"
      },
      "execution_count": null,
      "outputs": []
    },
    {
      "cell_type": "code",
      "source": [
        "# Function to pass layers to the calculating function and to get the macc of each layer\n",
        "\n",
        "def MAC_summary(model):\n",
        "  print('%25s | %6s' % ('Layer Name', 'MACs'))\n",
        "  print('*' * 100)\n",
        "  t_macc = 0\n",
        "\n",
        "  for l in model.layers:\n",
        "    if (type(l) in [models.Sequential, keras.Model]):\n",
        "      for ib_layer in l.layers:\n",
        "        mac_obtained = mac_each_layer(ib_layer)\n",
        "        print('%25s(%5s) | %5.4f' % (\n",
        "                l.name,ib_layer.name, mac_obtained ))\n",
        "        t_macc += mac_obtained  \n",
        "\n",
        "    else:\n",
        "      mac_obtained = mac_each_layer(l)\n",
        "      print('%25s | %5.4f' % (\n",
        "                l.name, mac_obtained ))\n",
        "      \n",
        "    t_macc += mac_obtained\n",
        "  print('\\nTotal MACs operations in the complete model: %10.8f\\n' % (t_macc))\n",
        "  return"
      ],
      "metadata": {
        "id": "8k_N9h5O39Rt"
      },
      "execution_count": null,
      "outputs": []
    },
    {
      "cell_type": "code",
      "source": [
        "# Function to check if a layer is model or not\n",
        "def is_hier_layer(layer):\n",
        "    \"Finds if layer is actually a model instead of a single layer\"\n",
        "    return type(layer) in [models.Sequential, keras.Model]\n",
        "\n",
        "\n",
        "# Function to add communicated data to the metrics\n",
        "def add_metrics(m2):\n",
        "    \"Annotates recursiverly a (non-compiled) model with metrics that calculate probability of non-zero activity\"\n",
        "    prefix_name = m2.name + \"_\"\n",
        "    for ll in m2.layers:\n",
        "        if is_hier_layer(ll):\n",
        "            add_metrics(ll)\n",
        "        else:\n",
        "            my_metric = tf.reduce_sum( tf.math.count_nonzero(ll.output, dtype=tf.int32) / tf.size( ll.output)  )\n",
        "            name=prefix_name + ll.name\n",
        "            m2.add_metric(my_metric, name=name)\n",
        "    return\n"
      ],
      "metadata": {
        "id": "lxtnMmyB87yM"
      },
      "execution_count": null,
      "outputs": []
    },
    {
      "cell_type": "code",
      "source": [
        "# Function to print the effective data communicated \n",
        "\n",
        "def data_summary(model):\n",
        "\n",
        "  # Function to add communicated data to the metrics\n",
        "  def add_metrics(m2):\n",
        "    \"Annotates recursiverly a (non-compiled) model with metrics that calculate probability of non-zero activity\"\n",
        "    prefix_name = m2.name + \"_\"\n",
        "    for ll in m2.layers:\n",
        "        if is_hier_layer(ll):\n",
        "            add_metrics(ll)\n",
        "        else:\n",
        "            my_metric = tf.reduce_sum( tf.math.count_nonzero(ll.output, dtype=tf.int32) / tf.size( ll.output)  )\n",
        "            name=prefix_name + ll.name\n",
        "            m2.add_metric(my_metric, name=name)\n",
        "    return\n",
        "\n",
        "  # Function to check if a layer is model or not\n",
        "  def is_hier_layer(layer):\n",
        "      \"Finds if layer is actually a model instead of a single layer\"\n",
        "      return type(layer) in [models.Sequential, keras.Model]\n",
        "\n",
        "  # Clone the model. Note that it is not compiled!\n",
        "  m2 = keras.models.clone_model(model)\n",
        "  add_metrics(m2)\n",
        "  \n",
        "  # Compiling the cloned model and taking the inference\n",
        "  m2.compile(optimizer='adam',\n",
        "                loss='sparse_categorical_crossentropy',\n",
        "                metrics=['accuracy'])\n",
        "\n",
        "  aux = m2.evaluate(x_test[0:1000], y_test[0:1000]) \n",
        "  \n",
        "  print('%40s | %20s' % ('Metrics and Layer Name', 'Effective data communicated'))\n",
        "  print(\"*\" * 150)\n",
        "  for l in m2.metrics:\n",
        "    print('%40s | %5.4f' % (l.name, l.result().numpy()))\n",
        "  return"
      ],
      "metadata": {
        "id": "pt4JVkOa-eNJ"
      },
      "execution_count": null,
      "outputs": []
    },
    {
      "cell_type": "code",
      "source": [
        "MAC_summary(model_hierarchy)"
      ],
      "metadata": {
        "id": "FZJrcDoaBC5u"
      },
      "execution_count": null,
      "outputs": []
    },
    {
      "cell_type": "code",
      "source": [
        "data_summary(model_hierarchy)"
      ],
      "metadata": {
        "id": "vsqSQNf6BiFK"
      },
      "execution_count": null,
      "outputs": []
    }
  ]
}